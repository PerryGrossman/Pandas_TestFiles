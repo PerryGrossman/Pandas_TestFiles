{
 "metadata": {
  "name": "",
  "signature": "sha256:0a5393bbb7a9afca33547c8fdca588443773fed300a9a77c88e02af79294eb56"
 },
 "nbformat": 3,
 "nbformat_minor": 0,
 "worksheets": [
  {
   "cells": [
    {
     "cell_type": "heading",
     "level": 1,
     "metadata": {},
     "source": [
      "Testing Python and Pandas Code"
     ]
    },
    {
     "cell_type": "code",
     "collapsed": false,
     "input": [
      "import pandas as pd"
     ],
     "language": "python",
     "metadata": {},
     "outputs": [],
     "prompt_number": 6
    },
    {
     "cell_type": "code",
     "collapsed": false,
     "input": [
      "# http://stackoverflow.com/questions/11346283/renaming-columns-in-pandas\n",
      "#>>> df = pd.DataFrame({'$a':[1,2], '$b': [10,20]})\n",
      "#>>> df.columns = ['a', 'b']\n",
      "#>>> df\n",
      "#   a   b\n",
      "#0  1  10\n",
      "#1  2  20\n",
      "df = pd.DataFrame({'$a':[1,2], '$b': [10,20]})\n",
      "#df.columns = ['a', 'b']\n",
      "df\n",
      "#   a   b\n",
      "#0  1  10\n",
      "#1  2  20\n",
      "# does not let you specify the column."
     ],
     "language": "python",
     "metadata": {},
     "outputs": [
      {
       "html": [
        "<div style=\"max-height:1000px;max-width:1500px;overflow:auto;\">\n",
        "<table border=\"1\" class=\"dataframe\">\n",
        "  <thead>\n",
        "    <tr style=\"text-align: right;\">\n",
        "      <th></th>\n",
        "      <th>$a</th>\n",
        "      <th>$b</th>\n",
        "    </tr>\n",
        "  </thead>\n",
        "  <tbody>\n",
        "    <tr>\n",
        "      <th>0</th>\n",
        "      <td> 1</td>\n",
        "      <td> 10</td>\n",
        "    </tr>\n",
        "    <tr>\n",
        "      <th>1</th>\n",
        "      <td> 2</td>\n",
        "      <td> 20</td>\n",
        "    </tr>\n",
        "  </tbody>\n",
        "</table>\n",
        "</div>"
       ],
       "metadata": {},
       "output_type": "pyout",
       "prompt_number": 7,
       "text": [
        "   $a  $b\n",
        "0   1  10\n",
        "1   2  20"
       ]
      }
     ],
     "prompt_number": 7
    },
    {
     "cell_type": "code",
     "collapsed": false,
     "input": [
      " df.columns.values[0]='XX' "
     ],
     "language": "python",
     "metadata": {},
     "outputs": [],
     "prompt_number": 8
    },
    {
     "cell_type": "code",
     "collapsed": false,
     "input": [
      "df"
     ],
     "language": "python",
     "metadata": {},
     "outputs": [
      {
       "html": [
        "<div style=\"max-height:1000px;max-width:1500px;overflow:auto;\">\n",
        "<table border=\"1\" class=\"dataframe\">\n",
        "  <thead>\n",
        "    <tr style=\"text-align: right;\">\n",
        "      <th></th>\n",
        "      <th>XX</th>\n",
        "      <th>$b</th>\n",
        "    </tr>\n",
        "  </thead>\n",
        "  <tbody>\n",
        "    <tr>\n",
        "      <th>0</th>\n",
        "      <td> 1</td>\n",
        "      <td> 10</td>\n",
        "    </tr>\n",
        "    <tr>\n",
        "      <th>1</th>\n",
        "      <td> 2</td>\n",
        "      <td> 20</td>\n",
        "    </tr>\n",
        "  </tbody>\n",
        "</table>\n",
        "</div>"
       ],
       "metadata": {},
       "output_type": "pyout",
       "prompt_number": 9,
       "text": [
        "   XX  $b\n",
        "0   1  10\n",
        "1   2  20"
       ]
      }
     ],
     "prompt_number": 9
    },
    {
     "cell_type": "code",
     "collapsed": false,
     "input": [
      "#http://legacy.python.org/dev/peps/pep-0008/\n",
      "my_list = [\n",
      "    1, 2, 3,\n",
      "    4, 5, 6,\n",
      "    ]\n",
      "\n",
      "result = some_function_that_takes_arguments(\n",
      "    'a', 'b', 'c',\n",
      "    'd', 'e', 'f',\n",
      "    )"
     ],
     "language": "python",
     "metadata": {},
     "outputs": [
      {
       "ename": "NameError",
       "evalue": "name 'some_function_that_takes_arguments' is not defined",
       "output_type": "pyerr",
       "traceback": [
        "\u001b[1;31m---------------------------------------------------------------------------\u001b[0m\n\u001b[1;31mNameError\u001b[0m                                 Traceback (most recent call last)",
        "\u001b[1;32m<ipython-input-10-cc77265be98a>\u001b[0m in \u001b[0;36m<module>\u001b[1;34m()\u001b[0m\n\u001b[0;32m      5\u001b[0m     ]\n\u001b[0;32m      6\u001b[0m \u001b[1;33m\u001b[0m\u001b[0m\n\u001b[1;32m----> 7\u001b[1;33m result = some_function_that_takes_arguments(\n\u001b[0m\u001b[0;32m      8\u001b[0m     \u001b[1;34m'a'\u001b[0m\u001b[1;33m,\u001b[0m \u001b[1;34m'b'\u001b[0m\u001b[1;33m,\u001b[0m \u001b[1;34m'c'\u001b[0m\u001b[1;33m,\u001b[0m\u001b[1;33m\u001b[0m\u001b[0m\n\u001b[0;32m      9\u001b[0m     \u001b[1;34m'd'\u001b[0m\u001b[1;33m,\u001b[0m \u001b[1;34m'e'\u001b[0m\u001b[1;33m,\u001b[0m \u001b[1;34m'f'\u001b[0m\u001b[1;33m,\u001b[0m\u001b[1;33m\u001b[0m\u001b[0m\n",
        "\u001b[1;31mNameError\u001b[0m: name 'some_function_that_takes_arguments' is not defined"
       ]
      }
     ],
     "prompt_number": 10
    },
    {
     "cell_type": "code",
     "collapsed": false,
     "input": [
      "#http://matplotlib.org/users/pyplot_tutorial.html\n",
      "import matplotlib.pyplot as plt\n",
      "plt.plot([1,2,3,4])\n",
      "# know to be y values?\n",
      "plt.ylabel('some numbers')\n",
      "plt.xlabel('some other numbers')\n",
      "# x default start at 0\n",
      "plt.show()"
     ],
     "language": "python",
     "metadata": {},
     "outputs": [],
     "prompt_number": 11
    },
    {
     "cell_type": "code",
     "collapsed": false,
     "input": [
      "#plot() is a versatile command, and will take an arbitrary number of arguments. \n",
      "#For example, to plot x versus y, you can issue the command:\n",
      "\n",
      "plt.plot([1,2,3,4], [1,4,9,16])\n",
      "plt.show()"
     ],
     "language": "python",
     "metadata": {},
     "outputs": [],
     "prompt_number": 12
    },
    {
     "cell_type": "code",
     "collapsed": false,
     "input": [
      "import matplotlib.pyplot as plt\n",
      "plt.plot([1,2,3,4], [1,4,9,16], 'ro')\n",
      "plt.axis([0, 6, 0, 20])\n",
      "plt.show()"
     ],
     "language": "python",
     "metadata": {},
     "outputs": [],
     "prompt_number": 7
    },
    {
     "cell_type": "code",
     "collapsed": false,
     "input": [
      "# Tuples -- a lesson\n",
      "#http://radar.oreilly.com/2014/10/python-tuples-immutable-but-potentially-changing.html?utm_source=Python+Weekly+Newsletter&utm_campaign=e82d86e39c-Python_Weekly_Issue_162_October_23_2014&utm_medium=email&utm_term=0_9e26887fc5-e82d86e39c-280573993\n",
      "\n",
      "#>>> dum = ('1861-10-23', ['poetry', 'pretend-fight'])\n",
      "#>>> dee = ('1861-10-23', ['poetry', 'pretend-fight'])\n",
      "#>>> dum == dee\n",
      "#True\n",
      "#>>> dum is dee\n",
      "#False\n",
      "#>>> id(dum), id(dee)\n",
      "#(4313018120, 4312991048)\n",
      "\n",
      "dum = ('1861-10-23', ['poetry', 'pretend-fight'])\n",
      "dee = ('1861-10-23', ['poetry', 'pretend-fight'])\n",
      "dum == dee\n",
      "#True\n",
      "dum is dee\n",
      "#False\n",
      "id(dum), id(dee)\n",
      "#(4313018120, 4312991048)"
     ],
     "language": "python",
     "metadata": {},
     "outputs": [
      {
       "metadata": {},
       "output_type": "pyout",
       "prompt_number": 13,
       "text": [
        "(139809228469096, 139809249312352)"
       ]
      }
     ],
     "prompt_number": 13
    },
    {
     "cell_type": "code",
     "collapsed": false,
     "input": [
      "dum == dee\n",
      "#True\n"
     ],
     "language": "python",
     "metadata": {},
     "outputs": [
      {
       "metadata": {},
       "output_type": "pyout",
       "prompt_number": 14,
       "text": [
        "True"
       ]
      }
     ],
     "prompt_number": 14
    },
    {
     "cell_type": "code",
     "collapsed": false,
     "input": [
      "dum is dee\n",
      "#False"
     ],
     "language": "python",
     "metadata": {},
     "outputs": [
      {
       "metadata": {},
       "output_type": "pyout",
       "prompt_number": 15,
       "text": [
        "False"
       ]
      }
     ],
     "prompt_number": 15
    },
    {
     "cell_type": "code",
     "collapsed": false,
     "input": [
      "id(dum), id(dee)\n",
      "#(4313018120, 4312991048)"
     ],
     "language": "python",
     "metadata": {},
     "outputs": [
      {
       "metadata": {},
       "output_type": "pyout",
       "prompt_number": 16,
       "text": [
        "(139809228469096, 139809249312352)"
       ]
      }
     ],
     "prompt_number": 16
    },
    {
     "cell_type": "code",
     "collapsed": false,
     "input": [
      "t_doom = dum\n",
      "t_doom\n",
      "#('1861-10-23', ['poetry', 'pretend-fight'])\n",
      "\n"
     ],
     "language": "python",
     "metadata": {},
     "outputs": [
      {
       "metadata": {},
       "output_type": "pyout",
       "prompt_number": 17,
       "text": [
        "('1861-10-23', ['poetry', 'pretend-fight'])"
       ]
      }
     ],
     "prompt_number": 17
    },
    {
     "cell_type": "code",
     "collapsed": false,
     "input": [
      "t_doom == dum\n",
      "#True\n",
      "#t_doom is dum\n",
      "#True\n",
      "\n"
     ],
     "language": "python",
     "metadata": {},
     "outputs": [
      {
       "metadata": {},
       "output_type": "pyout",
       "prompt_number": 14,
       "text": [
        "True"
       ]
      }
     ],
     "prompt_number": 14
    },
    {
     "cell_type": "code",
     "collapsed": false,
     "input": [
      "#t_doom == dum\n",
      "#True\n",
      "t_doom is dum\n",
      "#True\n",
      "\n"
     ],
     "language": "python",
     "metadata": {},
     "outputs": [
      {
       "metadata": {},
       "output_type": "pyout",
       "prompt_number": 18,
       "text": [
        "True"
       ]
      }
     ],
     "prompt_number": 18
    },
    {
     "cell_type": "code",
     "collapsed": false,
     "input": [
      "skills = t_doom[1]\n",
      "skills.append('rap')\n",
      "t_doom\n",
      "#('1861-10-23', ['poetry', 'pretend-fight', 'rap'])\n",
      "#dum\n",
      "#('1861-10-23', ['poetry', 'pretend-fight', 'rap'])\n",
      "# how to reset these, rather than increment them? RESTART?"
     ],
     "language": "python",
     "metadata": {},
     "outputs": [
      {
       "metadata": {},
       "output_type": "pyout",
       "prompt_number": 19,
       "text": [
        "('1861-10-23', ['poetry', 'pretend-fight', 'rap'])"
       ]
      }
     ],
     "prompt_number": 19
    },
    {
     "cell_type": "code",
     "collapsed": false,
     "input": [
      "dum\n",
      "#('1861-10-23', ['poetry', 'pretend-fight', 'rap'])"
     ],
     "language": "python",
     "metadata": {},
     "outputs": [
      {
       "metadata": {},
       "output_type": "pyout",
       "prompt_number": 20,
       "text": [
        "('1861-10-23', ['poetry', 'pretend-fight', 'rap'])"
       ]
      }
     ],
     "prompt_number": 20
    },
    {
     "cell_type": "code",
     "collapsed": false,
     "input": [
      "dum == dee\n",
      "#False"
     ],
     "language": "python",
     "metadata": {},
     "outputs": [
      {
       "metadata": {},
       "output_type": "pyout",
       "prompt_number": 21,
       "text": [
        "False"
       ]
      }
     ],
     "prompt_number": 21
    },
    {
     "cell_type": "raw",
     "metadata": {},
     "source": [
      "The other built-in immutable collection type in Python, frozenset, does not suffer from the problem of being immutable yet potentially changing in value. That\u2019s because a frozenset (or a plain set, for that matter) may only hold references to hashable objects, and the value of hashable objects may naver change, by definition."
     ]
    },
    {
     "cell_type": "raw",
     "metadata": {},
     "source": [
      "Tuples are commonly used as dict keys, and those must be hashable \u2014 just as set elements. So, are tuples hashable or not? The right answer is: some tuples are hashable. The value of a tuple holding a mutable object may change, and such a tuple is not hashable. To be used as a dict key or set element, the tuple must be made only of hashable objects. Our tuples named dum and dee are unhashable because each contains a list reference, and lists are unhashable."
     ]
    },
    {
     "cell_type": "raw",
     "metadata": {},
     "source": [
      "Assignment in Python never copies values. It only copies references. So when I wrote skills = t_doom[1] I did not copy the list at t_doom[1], I only copied a reference to it, which I then used to change the list by doing skills.append('rap'"
     ]
    },
    {
     "cell_type": "code",
     "collapsed": false,
     "input": [
      "class Gizmo:\n",
      "...     def __init__(self):\n",
      "...         print('Gizmo id: %d' % id(self))\n",
      "...\n",
      "x = Gizmo()\n",
      "#Gizmo id: 4328764080\n",
      "#id always changes-- pseudo-random?"
     ],
     "language": "python",
     "metadata": {},
     "outputs": [
      {
       "output_type": "stream",
       "stream": "stdout",
       "text": [
        "Gizmo id: 139809228835872\n"
       ]
      }
     ],
     "prompt_number": 23
    },
    {
     "cell_type": "raw",
     "metadata": {},
     "source": [
      "Note that the __init__ method displays the id of the object just created. This will be important in the next demonstration.\n",
      "\n",
      "Now let\u2019s instantiate another Gizmo and immediately try to perform an operation with it before binding a name to the result:"
     ]
    },
    {
     "cell_type": "code",
     "collapsed": false,
     "input": [
      "y = Gizmo() * 10\n",
      "#Gizmo id: 4328764360\n",
      "#Traceback (most recent call last):\n",
      "#  ...\n",
      "#TypeError: unsupported operand type(s) for *: 'Gizmo' and 'int'\n",
      "#>>> 'y' in globals()\n",
      "#False"
     ],
     "language": "python",
     "metadata": {},
     "outputs": [
      {
       "output_type": "stream",
       "stream": "stdout",
       "text": [
        "Gizmo id: 139809228834792\n"
       ]
      },
      {
       "ename": "TypeError",
       "evalue": "unsupported operand type(s) for *: 'instance' and 'int'",
       "output_type": "pyerr",
       "traceback": [
        "\u001b[1;31m---------------------------------------------------------------------------\u001b[0m\n\u001b[1;31mTypeError\u001b[0m                                 Traceback (most recent call last)",
        "\u001b[1;32m<ipython-input-24-fc4bbd5b5b3a>\u001b[0m in \u001b[0;36m<module>\u001b[1;34m()\u001b[0m\n\u001b[1;32m----> 1\u001b[1;33m \u001b[0my\u001b[0m \u001b[1;33m=\u001b[0m \u001b[0mGizmo\u001b[0m\u001b[1;33m(\u001b[0m\u001b[1;33m)\u001b[0m \u001b[1;33m*\u001b[0m \u001b[1;36m10\u001b[0m\u001b[1;33m\u001b[0m\u001b[0m\n\u001b[0m\u001b[0;32m      2\u001b[0m \u001b[1;31m#Gizmo id: 4328764360\u001b[0m\u001b[1;33m\u001b[0m\u001b[1;33m\u001b[0m\u001b[0m\n\u001b[0;32m      3\u001b[0m \u001b[1;31m#Traceback (most recent call last):\u001b[0m\u001b[1;33m\u001b[0m\u001b[1;33m\u001b[0m\u001b[0m\n\u001b[0;32m      4\u001b[0m \u001b[1;31m#  ...\u001b[0m\u001b[1;33m\u001b[0m\u001b[1;33m\u001b[0m\u001b[0m\n\u001b[0;32m      5\u001b[0m \u001b[1;31m#TypeError: unsupported operand type(s) for *: 'Gizmo' and 'int'\u001b[0m\u001b[1;33m\u001b[0m\u001b[1;33m\u001b[0m\u001b[0m\n",
        "\u001b[1;31mTypeError\u001b[0m: unsupported operand type(s) for *: 'instance' and 'int'"
       ]
      }
     ],
     "prompt_number": 24
    },
    {
     "cell_type": "code",
     "collapsed": false,
     "input": [
      "'y' in globals()\n",
      "#False"
     ],
     "language": "python",
     "metadata": {},
     "outputs": [
      {
       "metadata": {},
       "output_type": "pyout",
       "prompt_number": 25,
       "text": [
        "False"
       ]
      }
     ],
     "prompt_number": 25
    },
    {
     "cell_type": "code",
     "collapsed": false,
     "input": [
      "import pandas as pd #this is how I usually import pandas\n",
      "import sys #only needed to determine Python version number\n",
      "print 'Python version ' + sys.version\n",
      "print 'Pandas version ' + pd.__version__"
     ],
     "language": "python",
     "metadata": {},
     "outputs": [
      {
       "output_type": "stream",
       "stream": "stdout",
       "text": [
        "Python version 2.7.8 |Anaconda 2.0.1 (64-bit)| (default, Aug 21 2014, 18:22:21) \n",
        "[GCC 4.4.7 20120313 (Red Hat 4.4.7-1)]\n",
        "Pandas version 0.15.0\n"
       ]
      }
     ],
     "prompt_number": 26
    },
    {
     "cell_type": "code",
     "collapsed": false,
     "input": [
      "print str(float(1/3))+'%'\n",
      "#and it show :\n",
      "#0.0%\n",
      "#but i want get 33%"
     ],
     "language": "python",
     "metadata": {},
     "outputs": [
      {
       "output_type": "stream",
       "stream": "stdout",
       "text": [
        "0.0%\n"
       ]
      }
     ],
     "prompt_number": 27
    },
    {
     "cell_type": "raw",
     "metadata": {},
     "source": [
      "int/int = int, int/float = float, flaot/int = float"
     ]
    },
    {
     "cell_type": "code",
     "collapsed": false,
     "input": [
      "#format is a built-in since Python 2.6:\n",
      "print \"{0:.0f}%\".format(float(1)/3 * 100)\n",
      "#33%"
     ],
     "language": "python",
     "metadata": {},
     "outputs": [
      {
       "output_type": "stream",
       "stream": "stdout",
       "text": [
        "33%\n"
       ]
      }
     ],
     "prompt_number": 28
    },
    {
     "cell_type": "code",
     "collapsed": false,
     "input": [
      "# If you don't want integer division, you can import Python3's division from __future__:\n",
      "from __future__ import division\n",
      "1 / 3\n",
      "#0.3333333333333333"
     ],
     "language": "python",
     "metadata": {},
     "outputs": [
      {
       "metadata": {},
       "output_type": "pyout",
       "prompt_number": 29,
       "text": [
        "0.3333333333333333"
       ]
      }
     ],
     "prompt_number": 29
    },
    {
     "cell_type": "code",
     "collapsed": false,
     "input": [
      "#pandas.set_printoptions(...) is depracted. Instead, use pandas.set_option. Like:\n",
      "\n",
      "import pandas as pd\n",
      "#pd.set_option('display.height', 1000)\n",
      "# height has been deprecated.\n",
      "#pd.set_option('display.', 1000)\n",
      "pd.set_option('display.max_rows', 5)\n",
      "pd.set_option('display.max_columns', 500)\n",
      "pd.set_option('display.width', 1000)"
     ],
     "language": "python",
     "metadata": {},
     "outputs": [],
     "prompt_number": 30
    },
    {
     "cell_type": "code",
     "collapsed": false,
     "input": [
      "names = pd.read_csv('baby-names2.csv')\n",
      "#http://pandas.pydata.org/pandas-docs/stable/io.html#io-read-csv-table\n",
      "\n",
      "# http://pandas.pydata.org/pandas-docs/stable/io.html\n",
      "# why not working."
     ],
     "language": "python",
     "metadata": {},
     "outputs": [],
     "prompt_number": 32
    },
    {
     "cell_type": "code",
     "collapsed": false,
     "input": [
      "\n",
      "pd.set_printoptions(notebook_repr_html=False)  # turn off html, i.e., without table.\n",
      "pd.set_printoptions(max_rows=500)   # getting the summary of the view versus getting everything. Terminal takes time to buffer.\n"
     ],
     "language": "python",
     "metadata": {},
     "outputs": [
      {
       "ename": "AttributeError",
       "evalue": "'module' object has no attribute 'set_printoptions'",
       "output_type": "pyerr",
       "traceback": [
        "\u001b[1;31m---------------------------------------------------------------------------\u001b[0m\n\u001b[1;31mAttributeError\u001b[0m                            Traceback (most recent call last)",
        "\u001b[1;32m<ipython-input-33-6bdb931c5402>\u001b[0m in \u001b[0;36m<module>\u001b[1;34m()\u001b[0m\n\u001b[0;32m      1\u001b[0m \u001b[1;33m\u001b[0m\u001b[0m\n\u001b[1;32m----> 2\u001b[1;33m \u001b[0mpd\u001b[0m\u001b[1;33m.\u001b[0m\u001b[0mset_printoptions\u001b[0m\u001b[1;33m(\u001b[0m\u001b[0mnotebook_repr_html\u001b[0m\u001b[1;33m=\u001b[0m\u001b[0mFalse\u001b[0m\u001b[1;33m)\u001b[0m  \u001b[1;31m# turn off html, i.e., without table.\u001b[0m\u001b[1;33m\u001b[0m\u001b[0m\n\u001b[0m\u001b[0;32m      3\u001b[0m \u001b[0mpd\u001b[0m\u001b[1;33m.\u001b[0m\u001b[0mset_printoptions\u001b[0m\u001b[1;33m(\u001b[0m\u001b[0mmax_rows\u001b[0m\u001b[1;33m=\u001b[0m\u001b[1;36m500\u001b[0m\u001b[1;33m)\u001b[0m   \u001b[1;31m# getting the summary of the view versus getting everything. Terminal takes time to buffer.\u001b[0m\u001b[1;33m\u001b[0m\u001b[0m\n",
        "\u001b[1;31mAttributeError\u001b[0m: 'module' object has no attribute 'set_printoptions'"
       ]
      }
     ],
     "prompt_number": 33
    },
    {
     "cell_type": "code",
     "collapsed": false,
     "input": [
      "#?foo.*abc*       : List names in 'foo' containing 'abc' in them.\n",
      "?names.John"
     ],
     "language": "python",
     "metadata": {},
     "outputs": [
      {
       "output_type": "stream",
       "stream": "stdout",
       "text": [
        "Object `names.John` not found.\n"
       ]
      }
     ],
     "prompt_number": 37
    },
    {
     "cell_type": "code",
     "collapsed": false,
     "input": [],
     "language": "python",
     "metadata": {},
     "outputs": []
    },
    {
     "cell_type": "code",
     "collapsed": false,
     "input": [
      "names"
     ],
     "language": "python",
     "metadata": {},
     "outputs": [
      {
       "html": [
        "<div style=\"max-height:1000px;max-width:1500px;overflow:auto;\">\n",
        "<table border=\"1\" class=\"dataframe\">\n",
        "  <thead>\n",
        "    <tr style=\"text-align: right;\">\n",
        "      <th></th>\n",
        "      <th>year</th>\n",
        "      <th>name</th>\n",
        "      <th>prop</th>\n",
        "      <th>sex</th>\n",
        "      <th>soundex</th>\n",
        "    </tr>\n",
        "  </thead>\n",
        "  <tbody>\n",
        "    <tr>\n",
        "      <th>0     </th>\n",
        "      <td> 1880</td>\n",
        "      <td>    John</td>\n",
        "      <td> 0.081541</td>\n",
        "      <td>  boy</td>\n",
        "      <td> J500</td>\n",
        "    </tr>\n",
        "    <tr>\n",
        "      <th>1     </th>\n",
        "      <td> 1880</td>\n",
        "      <td> William</td>\n",
        "      <td> 0.080511</td>\n",
        "      <td>  boy</td>\n",
        "      <td> W450</td>\n",
        "    </tr>\n",
        "    <tr>\n",
        "      <th>...</th>\n",
        "      <td>...</td>\n",
        "      <td>...</td>\n",
        "      <td>...</td>\n",
        "      <td>...</td>\n",
        "      <td>...</td>\n",
        "    </tr>\n",
        "    <tr>\n",
        "      <th>257998</th>\n",
        "      <td> 2008</td>\n",
        "      <td>  Sloane</td>\n",
        "      <td> 0.000127</td>\n",
        "      <td> girl</td>\n",
        "      <td> S450</td>\n",
        "    </tr>\n",
        "    <tr>\n",
        "      <th>257999</th>\n",
        "      <td> 2008</td>\n",
        "      <td> Elianna</td>\n",
        "      <td> 0.000127</td>\n",
        "      <td> girl</td>\n",
        "      <td> E450</td>\n",
        "    </tr>\n",
        "  </tbody>\n",
        "</table>\n",
        "<p>258000 rows \u00d7 5 columns</p>\n",
        "</div>"
       ],
       "metadata": {},
       "output_type": "pyout",
       "prompt_number": 38,
       "text": [
        "        year     name      prop   sex soundex\n",
        "0       1880     John  0.081541   boy    J500\n",
        "1       1880  William  0.080511   boy    W450\n",
        "...      ...      ...       ...   ...     ...\n",
        "257998  2008   Sloane  0.000127  girl    S450\n",
        "257999  2008  Elianna  0.000127  girl    E450\n",
        "\n",
        "[258000 rows x 5 columns]"
       ]
      }
     ],
     "prompt_number": 38
    },
    {
     "cell_type": "code",
     "collapsed": false,
     "input": [
      "names.head(10)"
     ],
     "language": "python",
     "metadata": {},
     "outputs": [
      {
       "html": [
        "<div style=\"max-height:1000px;max-width:1500px;overflow:auto;\">\n",
        "<table border=\"1\" class=\"dataframe\">\n",
        "  <thead>\n",
        "    <tr style=\"text-align: right;\">\n",
        "      <th></th>\n",
        "      <th>year</th>\n",
        "      <th>name</th>\n",
        "      <th>prop</th>\n",
        "      <th>sex</th>\n",
        "      <th>soundex</th>\n",
        "    </tr>\n",
        "  </thead>\n",
        "  <tbody>\n",
        "    <tr>\n",
        "      <th>0</th>\n",
        "      <td> 1880</td>\n",
        "      <td>    John</td>\n",
        "      <td> 0.081541</td>\n",
        "      <td> boy</td>\n",
        "      <td> J500</td>\n",
        "    </tr>\n",
        "    <tr>\n",
        "      <th>1</th>\n",
        "      <td> 1880</td>\n",
        "      <td> William</td>\n",
        "      <td> 0.080511</td>\n",
        "      <td> boy</td>\n",
        "      <td> W450</td>\n",
        "    </tr>\n",
        "    <tr>\n",
        "      <th>2</th>\n",
        "      <td> 1880</td>\n",
        "      <td>   James</td>\n",
        "      <td> 0.050057</td>\n",
        "      <td> boy</td>\n",
        "      <td> J520</td>\n",
        "    </tr>\n",
        "    <tr>\n",
        "      <th>3</th>\n",
        "      <td> 1880</td>\n",
        "      <td> Charles</td>\n",
        "      <td> 0.045167</td>\n",
        "      <td> boy</td>\n",
        "      <td> C642</td>\n",
        "    </tr>\n",
        "    <tr>\n",
        "      <th>4</th>\n",
        "      <td> 1880</td>\n",
        "      <td>  George</td>\n",
        "      <td> 0.043292</td>\n",
        "      <td> boy</td>\n",
        "      <td> G620</td>\n",
        "    </tr>\n",
        "    <tr>\n",
        "      <th>5</th>\n",
        "      <td> 1880</td>\n",
        "      <td>   Frank</td>\n",
        "      <td> 0.027380</td>\n",
        "      <td> boy</td>\n",
        "      <td> F652</td>\n",
        "    </tr>\n",
        "    <tr>\n",
        "      <th>6</th>\n",
        "      <td> 1880</td>\n",
        "      <td>  Joseph</td>\n",
        "      <td> 0.022229</td>\n",
        "      <td> boy</td>\n",
        "      <td> J210</td>\n",
        "    </tr>\n",
        "    <tr>\n",
        "      <th>7</th>\n",
        "      <td> 1880</td>\n",
        "      <td>  Thomas</td>\n",
        "      <td> 0.021401</td>\n",
        "      <td> boy</td>\n",
        "      <td> T520</td>\n",
        "    </tr>\n",
        "    <tr>\n",
        "      <th>8</th>\n",
        "      <td> 1880</td>\n",
        "      <td>   Henry</td>\n",
        "      <td> 0.020641</td>\n",
        "      <td> boy</td>\n",
        "      <td> H560</td>\n",
        "    </tr>\n",
        "    <tr>\n",
        "      <th>9</th>\n",
        "      <td> 1880</td>\n",
        "      <td>  Robert</td>\n",
        "      <td> 0.020404</td>\n",
        "      <td> boy</td>\n",
        "      <td> R163</td>\n",
        "    </tr>\n",
        "  </tbody>\n",
        "</table>\n",
        "</div>"
       ],
       "metadata": {},
       "output_type": "pyout",
       "prompt_number": 12,
       "text": [
        "   year     name      prop  sex soundex\n",
        "0  1880     John  0.081541  boy    J500\n",
        "1  1880  William  0.080511  boy    W450\n",
        "2  1880    James  0.050057  boy    J520\n",
        "3  1880  Charles  0.045167  boy    C642\n",
        "4  1880   George  0.043292  boy    G620\n",
        "5  1880    Frank  0.027380  boy    F652\n",
        "6  1880   Joseph  0.022229  boy    J210\n",
        "7  1880   Thomas  0.021401  boy    T520\n",
        "8  1880    Henry  0.020641  boy    H560\n",
        "9  1880   Robert  0.020404  boy    R163"
       ]
      }
     ],
     "prompt_number": 12
    },
    {
     "cell_type": "code",
     "collapsed": false,
     "input": [
      "print(open('foo.csv').read())\n",
      "#date,A,B,C\n",
      "#20090101,a,1,2\n",
      "#20090102,b,3,4\n",
      "#20090103,c,4,5"
     ],
     "language": "python",
     "metadata": {},
     "outputs": [
      {
       "output_type": "stream",
       "stream": "stdout",
       "text": [
        "date,A,B,C\n",
        "20090101,a,1,2\n",
        "20090102,b,3,4\n",
        "20090103,c,4,5\n",
        "\n"
       ]
      }
     ],
     "prompt_number": 39
    },
    {
     "cell_type": "code",
     "collapsed": false,
     "input": [
      "pd.read_csv('foo.csv')\n",
      "#Out[2]: \n",
      "#       date  A  B  C\n",
      "#0  20090101  a  1  2\n",
      "#1  20090102  b  3  4\n",
      "#2  20090103  c  4  5"
     ],
     "language": "python",
     "metadata": {},
     "outputs": [
      {
       "html": [
        "<div style=\"max-height:1000px;max-width:1500px;overflow:auto;\">\n",
        "<table border=\"1\" class=\"dataframe\">\n",
        "  <thead>\n",
        "    <tr style=\"text-align: right;\">\n",
        "      <th></th>\n",
        "      <th>date</th>\n",
        "      <th>A</th>\n",
        "      <th>B</th>\n",
        "      <th>C</th>\n",
        "    </tr>\n",
        "  </thead>\n",
        "  <tbody>\n",
        "    <tr>\n",
        "      <th>0</th>\n",
        "      <td> 20090101</td>\n",
        "      <td> a</td>\n",
        "      <td> 1</td>\n",
        "      <td> 2</td>\n",
        "    </tr>\n",
        "    <tr>\n",
        "      <th>1</th>\n",
        "      <td> 20090102</td>\n",
        "      <td> b</td>\n",
        "      <td> 3</td>\n",
        "      <td> 4</td>\n",
        "    </tr>\n",
        "    <tr>\n",
        "      <th>2</th>\n",
        "      <td> 20090103</td>\n",
        "      <td> c</td>\n",
        "      <td> 4</td>\n",
        "      <td> 5</td>\n",
        "    </tr>\n",
        "  </tbody>\n",
        "</table>\n",
        "</div>"
       ],
       "metadata": {},
       "output_type": "pyout",
       "prompt_number": 40,
       "text": [
        "       date  A  B  C\n",
        "0  20090101  a  1  2\n",
        "1  20090102  b  3  4\n",
        "2  20090103  c  4  5"
       ]
      }
     ],
     "prompt_number": 40
    },
    {
     "cell_type": "code",
     "collapsed": false,
     "input": [
      "GaltonFamilies = pd.read_csv('GaltonFamilies.csv')"
     ],
     "language": "python",
     "metadata": {},
     "outputs": [],
     "prompt_number": 41
    },
    {
     "cell_type": "code",
     "collapsed": false,
     "input": [
      "# from http://allendowney.blogspot.com/\n",
      "import statsmodels.formula.api as smf\n",
      "model = smf.ols('child ~ father +mother+gender', data=GaltonFamilies)\n",
      "results = model.fit()\n",
      "results.summary()"
     ],
     "language": "python",
     "metadata": {},
     "outputs": [
      {
       "html": [
        "<table class=\"simpletable\">\n",
        "<caption>OLS Regression Results</caption>\n",
        "<tr>\n",
        "  <th>Dep. Variable:</th>          <td>child</td>      <th>  R-squared:         </th> <td>   0.635</td> \n",
        "</tr>\n",
        "<tr>\n",
        "  <th>Model:</th>                   <td>OLS</td>       <th>  Adj. R-squared:    </th> <td>   0.634</td> \n",
        "</tr>\n",
        "<tr>\n",
        "  <th>Method:</th>             <td>Least Squares</td>  <th>  F-statistic:       </th> <td>   540.3</td> \n",
        "</tr>\n",
        "<tr>\n",
        "  <th>Date:</th>             <td>Thu, 06 Nov 2014</td> <th>  Prob (F-statistic):</th> <td>3.38e-203</td>\n",
        "</tr>\n",
        "<tr>\n",
        "  <th>Time:</th>                 <td>21:47:10</td>     <th>  Log-Likelihood:    </th> <td> -2044.6</td> \n",
        "</tr>\n",
        "<tr>\n",
        "  <th>No. Observations:</th>      <td>   934</td>      <th>  AIC:               </th> <td>   4097.</td> \n",
        "</tr>\n",
        "<tr>\n",
        "  <th>Df Residuals:</th>          <td>   930</td>      <th>  BIC:               </th> <td>   4117.</td> \n",
        "</tr>\n",
        "<tr>\n",
        "  <th>Df Model:</th>              <td>     3</td>      <th>                     </th>     <td> </td>    \n",
        "</tr>\n",
        "</table>\n",
        "<table class=\"simpletable\">\n",
        "<tr>\n",
        "         <td></td>           <th>coef</th>     <th>std err</th>      <th>t</th>      <th>P>|t|</th> <th>[95.0% Conf. Int.]</th> \n",
        "</tr>\n",
        "<tr>\n",
        "  <th>Intercept</th>      <td>   16.5212</td> <td>    2.727</td> <td>    6.058</td> <td> 0.000</td> <td>   11.169    21.873</td>\n",
        "</tr>\n",
        "<tr>\n",
        "  <th>gender[T.male]</th> <td>    5.2150</td> <td>    0.142</td> <td>   36.775</td> <td> 0.000</td> <td>    4.937     5.493</td>\n",
        "</tr>\n",
        "<tr>\n",
        "  <th>father</th>         <td>    0.3928</td> <td>    0.029</td> <td>   13.699</td> <td> 0.000</td> <td>    0.337     0.449</td>\n",
        "</tr>\n",
        "<tr>\n",
        "  <th>mother</th>         <td>    0.3176</td> <td>    0.031</td> <td>   10.245</td> <td> 0.000</td> <td>    0.257     0.378</td>\n",
        "</tr>\n",
        "</table>\n",
        "<table class=\"simpletable\">\n",
        "<tr>\n",
        "  <th>Omnibus:</th>       <td>11.156</td> <th>  Durbin-Watson:     </th> <td>   1.549</td>\n",
        "</tr>\n",
        "<tr>\n",
        "  <th>Prob(Omnibus):</th> <td> 0.004</td> <th>  Jarque-Bera (JB):  </th> <td>  15.397</td>\n",
        "</tr>\n",
        "<tr>\n",
        "  <th>Skew:</th>          <td>-0.114</td> <th>  Prob(JB):          </th> <td>0.000453</td>\n",
        "</tr>\n",
        "<tr>\n",
        "  <th>Kurtosis:</th>      <td> 3.586</td> <th>  Cond. No.          </th> <td>3.63e+03</td>\n",
        "</tr>\n",
        "</table>"
       ],
       "metadata": {},
       "output_type": "pyout",
       "prompt_number": 42,
       "text": [
        "<class 'statsmodels.iolib.summary.Summary'>\n",
        "\"\"\"\n",
        "                            OLS Regression Results                            \n",
        "==============================================================================\n",
        "Dep. Variable:                  child   R-squared:                       0.635\n",
        "Model:                            OLS   Adj. R-squared:                  0.634\n",
        "Method:                 Least Squares   F-statistic:                     540.3\n",
        "Date:                Thu, 06 Nov 2014   Prob (F-statistic):          3.38e-203\n",
        "Time:                        21:47:10   Log-Likelihood:                -2044.6\n",
        "No. Observations:                 934   AIC:                             4097.\n",
        "Df Residuals:                     930   BIC:                             4117.\n",
        "Df Model:                           3                                         \n",
        "==================================================================================\n",
        "                     coef    std err          t      P>|t|      [95.0% Conf. Int.]\n",
        "----------------------------------------------------------------------------------\n",
        "Intercept         16.5212      2.727      6.058      0.000        11.169    21.873\n",
        "gender[T.male]     5.2150      0.142     36.775      0.000         4.937     5.493\n",
        "father             0.3928      0.029     13.699      0.000         0.337     0.449\n",
        "mother             0.3176      0.031     10.245      0.000         0.257     0.378\n",
        "==============================================================================\n",
        "Omnibus:                       11.156   Durbin-Watson:                   1.549\n",
        "Prob(Omnibus):                  0.004   Jarque-Bera (JB):               15.397\n",
        "Skew:                          -0.114   Prob(JB):                     0.000453\n",
        "Kurtosis:                       3.586   Cond. No.                     3.63e+03\n",
        "==============================================================================\n",
        "\n",
        "Warnings:\n",
        "[1] The condition number is large, 3.63e+03. This might indicate that there are\n",
        "strong multicollinearity or other numerical problems.\n",
        "\"\"\""
       ]
      }
     ],
     "prompt_number": 42
    },
    {
     "cell_type": "code",
     "collapsed": false,
     "input": [
      "#From the Book\n",
      "%automagic"
     ],
     "language": "python",
     "metadata": {},
     "outputs": [
      {
       "output_type": "stream",
       "stream": "stdout",
       "text": [
        "\n",
        "Automagic is OFF, % prefix IS needed for line magics.\n"
       ]
      }
     ],
     "prompt_number": 3
    },
    {
     "cell_type": "code",
     "collapsed": false,
     "input": [
      "%quickref"
     ],
     "language": "python",
     "metadata": {},
     "outputs": [],
     "prompt_number": 5
    },
    {
     "cell_type": "code",
     "collapsed": false,
     "input": [],
     "language": "python",
     "metadata": {},
     "outputs": []
    }
   ],
   "metadata": {}
  }
 ]
}