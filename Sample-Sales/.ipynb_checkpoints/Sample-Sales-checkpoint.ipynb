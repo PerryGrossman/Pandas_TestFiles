{
 "metadata": {
  "celltoolbar": "Raw Cell Format",
  "name": "",
  "signature": "sha256:672ecf72ffbd3bffd845733cd759140be12ea93716e8b7367eca364255aa51f4"
 },
 "nbformat": 3,
 "nbformat_minor": 0,
 "worksheets": [
  {
   "cells": [
    {
     "cell_type": "code",
     "collapsed": false,
     "input": [
      "#Perry\n",
      "#Playing with this:\n",
      "#http://pbpython.com/simple-data-analysis.html"
     ],
     "language": "python",
     "metadata": {},
     "outputs": [],
     "prompt_number": 60
    },
    {
     "cell_type": "code",
     "collapsed": false,
     "input": [
      "s= ['1','2']\n",
      "s?\n",
      "#Type:        list\n",
      "#String form: ['1', '2']\n",
      "#Length:      2\n",
      "#Docstring:\n",
      "#list() -> new empty list\n",
      "#list(iterable) -> new list initialized from iterable's items"
     ],
     "language": "python",
     "metadata": {},
     "outputs": [],
     "prompt_number": 61
    },
    {
     "cell_type": "code",
     "collapsed": false,
     "input": [
      "import pandas as pd\n",
      "import numpy as np"
     ],
     "language": "python",
     "metadata": {},
     "outputs": [],
     "prompt_number": 62
    },
    {
     "cell_type": "code",
     "collapsed": false,
     "input": [
      "SALES=pd.read_csv(\"sample-sales.csv\")\n",
      "SALES.head()"
     ],
     "language": "python",
     "metadata": {},
     "outputs": [
      {
       "html": [
        "<div style=\"max-height:1000px;max-width:1500px;overflow:auto;\">\n",
        "<table border=\"1\" class=\"dataframe\">\n",
        "  <thead>\n",
        "    <tr style=\"text-align: right;\">\n",
        "      <th></th>\n",
        "      <th>Account Number</th>\n",
        "      <th>Account Name</th>\n",
        "      <th>sku</th>\n",
        "      <th>category</th>\n",
        "      <th>quantity</th>\n",
        "      <th>unit price</th>\n",
        "      <th>ext price</th>\n",
        "      <th>date</th>\n",
        "    </tr>\n",
        "  </thead>\n",
        "  <tbody>\n",
        "    <tr>\n",
        "      <th>0</th>\n",
        "      <td> 803666</td>\n",
        "      <td>                 Fritsch-Glover</td>\n",
        "      <td> HX-24728</td>\n",
        "      <td>  Belt</td>\n",
        "      <td>  1</td>\n",
        "      <td> 98.98</td>\n",
        "      <td>  98.98</td>\n",
        "      <td> 2014-09-28 11:56:02</td>\n",
        "    </tr>\n",
        "    <tr>\n",
        "      <th>1</th>\n",
        "      <td>  64898</td>\n",
        "      <td>                   O'Conner Inc</td>\n",
        "      <td> LK-02338</td>\n",
        "      <td> Shirt</td>\n",
        "      <td>  9</td>\n",
        "      <td> 34.80</td>\n",
        "      <td> 313.20</td>\n",
        "      <td> 2014-04-24 16:51:22</td>\n",
        "    </tr>\n",
        "    <tr>\n",
        "      <th>2</th>\n",
        "      <td> 423621</td>\n",
        "      <td>                Beatty and Sons</td>\n",
        "      <td> ZC-07383</td>\n",
        "      <td> Shirt</td>\n",
        "      <td> 12</td>\n",
        "      <td> 60.24</td>\n",
        "      <td> 722.88</td>\n",
        "      <td> 2014-09-17 17:26:22</td>\n",
        "    </tr>\n",
        "    <tr>\n",
        "      <th>3</th>\n",
        "      <td> 137865</td>\n",
        "      <td> Gleason, Bogisich and Franecki</td>\n",
        "      <td> QS-76400</td>\n",
        "      <td> Shirt</td>\n",
        "      <td>  5</td>\n",
        "      <td> 15.25</td>\n",
        "      <td>  76.25</td>\n",
        "      <td> 2014-01-30 07:34:02</td>\n",
        "    </tr>\n",
        "    <tr>\n",
        "      <th>4</th>\n",
        "      <td> 435433</td>\n",
        "      <td>           Morissette-Heathcote</td>\n",
        "      <td> RU-25060</td>\n",
        "      <td> Shirt</td>\n",
        "      <td> 19</td>\n",
        "      <td> 51.83</td>\n",
        "      <td> 984.77</td>\n",
        "      <td> 2014-08-24 06:18:12</td>\n",
        "    </tr>\n",
        "  </tbody>\n",
        "</table>\n",
        "</div>"
       ],
       "metadata": {},
       "output_type": "pyout",
       "prompt_number": 63,
       "text": [
        "   Account Number                    Account Name       sku category  \\\n",
        "0          803666                  Fritsch-Glover  HX-24728     Belt   \n",
        "1           64898                    O'Conner Inc  LK-02338    Shirt   \n",
        "2          423621                 Beatty and Sons  ZC-07383    Shirt   \n",
        "3          137865  Gleason, Bogisich and Franecki  QS-76400    Shirt   \n",
        "4          435433            Morissette-Heathcote  RU-25060    Shirt   \n",
        "\n",
        "   quantity  unit price  ext price                 date  \n",
        "0         1       98.98      98.98  2014-09-28 11:56:02  \n",
        "1         9       34.80     313.20  2014-04-24 16:51:22  \n",
        "2        12       60.24     722.88  2014-09-17 17:26:22  \n",
        "3         5       15.25      76.25  2014-01-30 07:34:02  \n",
        "4        19       51.83     984.77  2014-08-24 06:18:12  "
       ]
      }
     ],
     "prompt_number": 63
    },
    {
     "cell_type": "code",
     "collapsed": false,
     "input": [
      "#This command shows us the number of products each customer purchased - all in one command!\n",
      "report = SALES.pivot_table(values=['quantity'],index=['Account Name'],columns=['category'], aggfunc=np.sum)\n",
      "report.head(n=10)"
     ],
     "language": "python",
     "metadata": {},
     "outputs": [
      {
       "html": [
        "<div style=\"max-height:1000px;max-width:1500px;overflow:auto;\">\n",
        "<table border=\"1\" class=\"dataframe\">\n",
        "  <thead>\n",
        "    <tr>\n",
        "      <th></th>\n",
        "      <th colspan=\"3\" halign=\"left\">quantity</th>\n",
        "    </tr>\n",
        "    <tr>\n",
        "      <th>category</th>\n",
        "      <th>Belt</th>\n",
        "      <th>Shirt</th>\n",
        "      <th>Shoes</th>\n",
        "    </tr>\n",
        "    <tr>\n",
        "      <th>Account Name</th>\n",
        "      <th></th>\n",
        "      <th></th>\n",
        "      <th></th>\n",
        "    </tr>\n",
        "  </thead>\n",
        "  <tbody>\n",
        "    <tr>\n",
        "      <th>Abbott PLC</th>\n",
        "      <td>NaN</td>\n",
        "      <td>NaN</td>\n",
        "      <td> 19</td>\n",
        "    </tr>\n",
        "    <tr>\n",
        "      <th>Abbott, Rogahn and Bednar</th>\n",
        "      <td>NaN</td>\n",
        "      <td> 18</td>\n",
        "      <td>NaN</td>\n",
        "    </tr>\n",
        "    <tr>\n",
        "      <th>Abshire LLC</th>\n",
        "      <td>NaN</td>\n",
        "      <td> 18</td>\n",
        "      <td>  2</td>\n",
        "    </tr>\n",
        "    <tr>\n",
        "      <th>Altenwerth, Stokes and Paucek</th>\n",
        "      <td>NaN</td>\n",
        "      <td> 13</td>\n",
        "      <td>NaN</td>\n",
        "    </tr>\n",
        "    <tr>\n",
        "      <th>Ankunding-McCullough</th>\n",
        "      <td>NaN</td>\n",
        "      <td>  2</td>\n",
        "      <td>NaN</td>\n",
        "    </tr>\n",
        "    <tr>\n",
        "      <th>Armstrong, Champlin and Ratke</th>\n",
        "      <td>  7</td>\n",
        "      <td> 36</td>\n",
        "      <td>NaN</td>\n",
        "    </tr>\n",
        "    <tr>\n",
        "      <th>Armstrong, McKenzie and Greenholt</th>\n",
        "      <td>NaN</td>\n",
        "      <td>NaN</td>\n",
        "      <td>  4</td>\n",
        "    </tr>\n",
        "    <tr>\n",
        "      <th>Armstrong-Williamson</th>\n",
        "      <td> 19</td>\n",
        "      <td>NaN</td>\n",
        "      <td>NaN</td>\n",
        "    </tr>\n",
        "    <tr>\n",
        "      <th>Aufderhar and Sons</th>\n",
        "      <td>NaN</td>\n",
        "      <td>NaN</td>\n",
        "      <td>  2</td>\n",
        "    </tr>\n",
        "    <tr>\n",
        "      <th>Aufderhar-O'Hara</th>\n",
        "      <td>NaN</td>\n",
        "      <td>NaN</td>\n",
        "      <td> 11</td>\n",
        "    </tr>\n",
        "  </tbody>\n",
        "</table>\n",
        "</div>"
       ],
       "metadata": {},
       "output_type": "pyout",
       "prompt_number": 64,
       "text": [
        "                                   quantity              \n",
        "category                               Belt  Shirt  Shoes\n",
        "Account Name                                             \n",
        "Abbott PLC                              NaN    NaN     19\n",
        "Abbott, Rogahn and Bednar               NaN     18    NaN\n",
        "Abshire LLC                             NaN     18      2\n",
        "Altenwerth, Stokes and Paucek           NaN     13    NaN\n",
        "Ankunding-McCullough                    NaN      2    NaN\n",
        "Armstrong, Champlin and Ratke             7     36    NaN\n",
        "Armstrong, McKenzie and Greenholt       NaN    NaN      4\n",
        "Armstrong-Williamson                     19    NaN    NaN\n",
        "Aufderhar and Sons                      NaN    NaN      2\n",
        "Aufderhar-O'Hara                        NaN    NaN     11"
       ]
      }
     ],
     "prompt_number": 64
    },
    {
     "cell_type": "code",
     "collapsed": false,
     "input": [
      "report = SALES.pivot_table(values=['quantity'],index=['Account Name'],columns=['category'], fill_value=0, aggfunc=np.sum)\n",
      "report.head(n=10)"
     ],
     "language": "python",
     "metadata": {},
     "outputs": [
      {
       "html": [
        "<div style=\"max-height:1000px;max-width:1500px;overflow:auto;\">\n",
        "<table border=\"1\" class=\"dataframe\">\n",
        "  <thead>\n",
        "    <tr>\n",
        "      <th></th>\n",
        "      <th colspan=\"3\" halign=\"left\">quantity</th>\n",
        "    </tr>\n",
        "    <tr>\n",
        "      <th>category</th>\n",
        "      <th>Belt</th>\n",
        "      <th>Shirt</th>\n",
        "      <th>Shoes</th>\n",
        "    </tr>\n",
        "    <tr>\n",
        "      <th>Account Name</th>\n",
        "      <th></th>\n",
        "      <th></th>\n",
        "      <th></th>\n",
        "    </tr>\n",
        "  </thead>\n",
        "  <tbody>\n",
        "    <tr>\n",
        "      <th>Abbott PLC</th>\n",
        "      <td>  0</td>\n",
        "      <td>  0</td>\n",
        "      <td> 19</td>\n",
        "    </tr>\n",
        "    <tr>\n",
        "      <th>Abbott, Rogahn and Bednar</th>\n",
        "      <td>  0</td>\n",
        "      <td> 18</td>\n",
        "      <td>  0</td>\n",
        "    </tr>\n",
        "    <tr>\n",
        "      <th>Abshire LLC</th>\n",
        "      <td>  0</td>\n",
        "      <td> 18</td>\n",
        "      <td>  2</td>\n",
        "    </tr>\n",
        "    <tr>\n",
        "      <th>Altenwerth, Stokes and Paucek</th>\n",
        "      <td>  0</td>\n",
        "      <td> 13</td>\n",
        "      <td>  0</td>\n",
        "    </tr>\n",
        "    <tr>\n",
        "      <th>Ankunding-McCullough</th>\n",
        "      <td>  0</td>\n",
        "      <td>  2</td>\n",
        "      <td>  0</td>\n",
        "    </tr>\n",
        "    <tr>\n",
        "      <th>Armstrong, Champlin and Ratke</th>\n",
        "      <td>  7</td>\n",
        "      <td> 36</td>\n",
        "      <td>  0</td>\n",
        "    </tr>\n",
        "    <tr>\n",
        "      <th>Armstrong, McKenzie and Greenholt</th>\n",
        "      <td>  0</td>\n",
        "      <td>  0</td>\n",
        "      <td>  4</td>\n",
        "    </tr>\n",
        "    <tr>\n",
        "      <th>Armstrong-Williamson</th>\n",
        "      <td> 19</td>\n",
        "      <td>  0</td>\n",
        "      <td>  0</td>\n",
        "    </tr>\n",
        "    <tr>\n",
        "      <th>Aufderhar and Sons</th>\n",
        "      <td>  0</td>\n",
        "      <td>  0</td>\n",
        "      <td>  2</td>\n",
        "    </tr>\n",
        "    <tr>\n",
        "      <th>Aufderhar-O'Hara</th>\n",
        "      <td>  0</td>\n",
        "      <td>  0</td>\n",
        "      <td> 11</td>\n",
        "    </tr>\n",
        "  </tbody>\n",
        "</table>\n",
        "</div>"
       ],
       "metadata": {},
       "output_type": "pyout",
       "prompt_number": 65,
       "text": [
        "                                   quantity              \n",
        "category                               Belt  Shirt  Shoes\n",
        "Account Name                                             \n",
        "Abbott PLC                                0      0     19\n",
        "Abbott, Rogahn and Bednar                 0     18      0\n",
        "Abshire LLC                               0     18      2\n",
        "Altenwerth, Stokes and Paucek             0     13      0\n",
        "Ankunding-McCullough                      0      2      0\n",
        "Armstrong, Champlin and Ratke             7     36      0\n",
        "Armstrong, McKenzie and Greenholt         0      0      4\n",
        "Armstrong-Williamson                     19      0      0\n",
        "Aufderhar and Sons                        0      0      2\n",
        "Aufderhar-O'Hara                          0      0     11"
       ]
      }
     ],
     "prompt_number": 65
    },
    {
     "cell_type": "code",
     "collapsed": false,
     "input": [
      "report = SALES.pivot_table(values=['ext price','quantity'],index=['Account Name'],columns=['category'], fill_value=0,aggfunc=np.sum)\n",
      "report.head(n=10)"
     ],
     "language": "python",
     "metadata": {},
     "outputs": [
      {
       "html": [
        "<div style=\"max-height:1000px;max-width:1500px;overflow:auto;\">\n",
        "<table border=\"1\" class=\"dataframe\">\n",
        "  <thead>\n",
        "    <tr>\n",
        "      <th></th>\n",
        "      <th colspan=\"3\" halign=\"left\">ext price</th>\n",
        "      <th colspan=\"3\" halign=\"left\">quantity</th>\n",
        "    </tr>\n",
        "    <tr>\n",
        "      <th>category</th>\n",
        "      <th>Belt</th>\n",
        "      <th>Shirt</th>\n",
        "      <th>Shoes</th>\n",
        "      <th>Belt</th>\n",
        "      <th>Shirt</th>\n",
        "      <th>Shoes</th>\n",
        "    </tr>\n",
        "    <tr>\n",
        "      <th>Account Name</th>\n",
        "      <th></th>\n",
        "      <th></th>\n",
        "      <th></th>\n",
        "      <th></th>\n",
        "      <th></th>\n",
        "      <th></th>\n",
        "    </tr>\n",
        "  </thead>\n",
        "  <tbody>\n",
        "    <tr>\n",
        "      <th>Abbott PLC</th>\n",
        "      <td>    0.00</td>\n",
        "      <td>   0.00</td>\n",
        "      <td> 755.44</td>\n",
        "      <td>  0</td>\n",
        "      <td>  0</td>\n",
        "      <td> 19</td>\n",
        "    </tr>\n",
        "    <tr>\n",
        "      <th>Abbott, Rogahn and Bednar</th>\n",
        "      <td>    0.00</td>\n",
        "      <td> 615.60</td>\n",
        "      <td>   0.00</td>\n",
        "      <td>  0</td>\n",
        "      <td> 18</td>\n",
        "      <td>  0</td>\n",
        "    </tr>\n",
        "    <tr>\n",
        "      <th>Abshire LLC</th>\n",
        "      <td>    0.00</td>\n",
        "      <td> 720.18</td>\n",
        "      <td>  90.34</td>\n",
        "      <td>  0</td>\n",
        "      <td> 18</td>\n",
        "      <td>  2</td>\n",
        "    </tr>\n",
        "    <tr>\n",
        "      <th>Altenwerth, Stokes and Paucek</th>\n",
        "      <td>    0.00</td>\n",
        "      <td> 843.31</td>\n",
        "      <td>   0.00</td>\n",
        "      <td>  0</td>\n",
        "      <td> 13</td>\n",
        "      <td>  0</td>\n",
        "    </tr>\n",
        "    <tr>\n",
        "      <th>Ankunding-McCullough</th>\n",
        "      <td>    0.00</td>\n",
        "      <td> 132.30</td>\n",
        "      <td>   0.00</td>\n",
        "      <td>  0</td>\n",
        "      <td>  2</td>\n",
        "      <td>  0</td>\n",
        "    </tr>\n",
        "    <tr>\n",
        "      <th>Armstrong, Champlin and Ratke</th>\n",
        "      <td>  587.30</td>\n",
        "      <td> 786.73</td>\n",
        "      <td>   0.00</td>\n",
        "      <td>  7</td>\n",
        "      <td> 36</td>\n",
        "      <td>  0</td>\n",
        "    </tr>\n",
        "    <tr>\n",
        "      <th>Armstrong, McKenzie and Greenholt</th>\n",
        "      <td>    0.00</td>\n",
        "      <td>   0.00</td>\n",
        "      <td> 125.04</td>\n",
        "      <td>  0</td>\n",
        "      <td>  0</td>\n",
        "      <td>  4</td>\n",
        "    </tr>\n",
        "    <tr>\n",
        "      <th>Armstrong-Williamson</th>\n",
        "      <td> 1495.87</td>\n",
        "      <td>   0.00</td>\n",
        "      <td>   0.00</td>\n",
        "      <td> 19</td>\n",
        "      <td>  0</td>\n",
        "      <td>  0</td>\n",
        "    </tr>\n",
        "    <tr>\n",
        "      <th>Aufderhar and Sons</th>\n",
        "      <td>    0.00</td>\n",
        "      <td>   0.00</td>\n",
        "      <td> 193.54</td>\n",
        "      <td>  0</td>\n",
        "      <td>  0</td>\n",
        "      <td>  2</td>\n",
        "    </tr>\n",
        "    <tr>\n",
        "      <th>Aufderhar-O'Hara</th>\n",
        "      <td>    0.00</td>\n",
        "      <td>   0.00</td>\n",
        "      <td> 669.57</td>\n",
        "      <td>  0</td>\n",
        "      <td>  0</td>\n",
        "      <td> 11</td>\n",
        "    </tr>\n",
        "  </tbody>\n",
        "</table>\n",
        "</div>"
       ],
       "metadata": {},
       "output_type": "pyout",
       "prompt_number": 66,
       "text": [
        "                                   ext price                  quantity         \\\n",
        "category                                Belt   Shirt   Shoes      Belt  Shirt   \n",
        "Account Name                                                                    \n",
        "Abbott PLC                              0.00    0.00  755.44         0      0   \n",
        "Abbott, Rogahn and Bednar               0.00  615.60    0.00         0     18   \n",
        "Abshire LLC                             0.00  720.18   90.34         0     18   \n",
        "Altenwerth, Stokes and Paucek           0.00  843.31    0.00         0     13   \n",
        "Ankunding-McCullough                    0.00  132.30    0.00         0      2   \n",
        "Armstrong, Champlin and Ratke         587.30  786.73    0.00         7     36   \n",
        "Armstrong, McKenzie and Greenholt       0.00    0.00  125.04         0      0   \n",
        "Armstrong-Williamson                 1495.87    0.00    0.00        19      0   \n",
        "Aufderhar and Sons                      0.00    0.00  193.54         0      0   \n",
        "Aufderhar-O'Hara                        0.00    0.00  669.57         0      0   \n",
        "\n",
        "                                          \n",
        "category                           Shoes  \n",
        "Account Name                              \n",
        "Abbott PLC                            19  \n",
        "Abbott, Rogahn and Bednar              0  \n",
        "Abshire LLC                            2  \n",
        "Altenwerth, Stokes and Paucek          0  \n",
        "Ankunding-McCullough                   0  \n",
        "Armstrong, Champlin and Ratke          0  \n",
        "Armstrong, McKenzie and Greenholt      4  \n",
        "Armstrong-Williamson                   0  \n",
        "Aufderhar and Sons                     2  \n",
        "Aufderhar-O'Hara                      11  "
       ]
      }
     ],
     "prompt_number": 66
    },
    {
     "cell_type": "code",
     "collapsed": false,
     "input": [
      "pd.DataFrame(report).to_excel('report.xlsx', sheet_name='Sheet1')"
     ],
     "language": "python",
     "metadata": {},
     "outputs": [],
     "prompt_number": 67
    },
    {
     "cell_type": "code",
     "collapsed": false,
     "input": [
      "pd.__version__"
     ],
     "language": "python",
     "metadata": {},
     "outputs": [
      {
       "metadata": {},
       "output_type": "pyout",
       "prompt_number": 68,
       "text": [
        "'0.14.1'"
       ]
      }
     ],
     "prompt_number": 68
    },
    {
     "cell_type": "raw",
     "metadata": {},
     "source": [
      "# for further info:\n",
      "https://wiki.python.org/moin/Powerful%20Python%20One-Liners"
     ]
    },
    {
     "cell_type": "heading",
     "level": 1,
     "metadata": {},
     "source": [
      "SETS"
     ]
    },
    {
     "cell_type": "raw",
     "metadata": {},
     "source": [
      "#http://pbpython.com/data-analysis-with-sets.html"
     ]
    },
    {
     "cell_type": "code",
     "collapsed": false,
     "input": [
      "engineers = set(['John', 'Jane', 'Jack', 'Janice'])\n",
      "managers = set(['Jane', 'Jack', 'Susan', 'Zack'])\n",
      "engineering_management = engineers & managers\n",
      "print engineering_management"
     ],
     "language": "python",
     "metadata": {},
     "outputs": [
      {
       "output_type": "stream",
       "stream": "stdout",
       "text": [
        "set(['Jane', 'Jack'])\n"
       ]
      }
     ],
     "prompt_number": 69
    },
    {
     "cell_type": "code",
     "collapsed": false,
     "input": [
      "set(['Jane', 'Jack'])"
     ],
     "language": "python",
     "metadata": {},
     "outputs": [
      {
       "metadata": {},
       "output_type": "pyout",
       "prompt_number": 70,
       "text": [
        "{'Jack', 'Jane'}"
       ]
      }
     ],
     "prompt_number": 70
    },
    {
     "cell_type": "code",
     "collapsed": false,
     "input": [
      "#Next open up the csv file:\n",
      "f = open(\"sample-sales.csv\",'rt')\n",
      "#reader = csv.reader(f)"
     ],
     "language": "python",
     "metadata": {},
     "outputs": [],
     "prompt_number": 71
    },
    {
     "cell_type": "code",
     "collapsed": false,
     "input": [
      "import csv"
     ],
     "language": "python",
     "metadata": {},
     "outputs": [],
     "prompt_number": 72
    },
    {
     "cell_type": "code",
     "collapsed": false,
     "input": [
      "f = open(\"sample-sales.csv\",'rt')\n",
      "reader = csv.reader(f)"
     ],
     "language": "python",
     "metadata": {},
     "outputs": [],
     "prompt_number": 73
    },
    {
     "cell_type": "code",
     "collapsed": false,
     "input": [
      "shoes = set()\n",
      "belts = set()\n",
      "shirts = set()"
     ],
     "language": "python",
     "metadata": {},
     "outputs": [],
     "prompt_number": 74
    },
    {
     "cell_type": "raw",
     "metadata": {},
     "source": [
      "Read each line of the file, get the customer information and add to the appropriate set. There is one interesting fact about the set. Notice how we don\u2019t check to see if a product is in a set or not before we add it. The set only contains unique items. This means if I add a company three times, it only shows in the list once. This feature makes the code very simple:"
     ]
    },
    {
     "cell_type": "code",
     "collapsed": false,
     "input": [
      "for row in reader:\n",
      "        customer = (row[0],row[1])\n",
      "        category = row[3]\n",
      "        if category == \"Shoes\":\n",
      "                shoes.add(customer)\n",
      "        if category == \"Belt\":\n",
      "                belts.add(customer)\n",
      "        if category == \"Shirt\":\n",
      "                shirts.add(customer)\n",
      "f.close()"
     ],
     "language": "python",
     "metadata": {},
     "outputs": [],
     "prompt_number": 75
    },
    {
     "cell_type": "code",
     "collapsed": false,
     "input": [
      "#some analysis:\n",
      "print \"%s customers have purchased shoes\" % len(shoes)\n",
      "print \"%s customers have purchased belts\" % len(belts)\n",
      "print \"%s customers have purchased shoes but not belts\" % len(shoes - belts)\n",
      "print \"%s customers have purchased shoes and belts\" % len(shoes & belts)\n",
      "print \"%s customers have purchases shoes and shirts\" % len(shoes & shirts)\n",
      "print \"%s customers have purchased shoes, belts and shirts\" % len(shoes & belts & shirts)\n",
      "print \"The following customers are our most valued. They have purchased shoes & belts & shirts:\"\n",
      "for customer in shoes & belts & shirts:\n",
      "        print customer"
     ],
     "language": "python",
     "metadata": {},
     "outputs": [
      {
       "output_type": "stream",
       "stream": "stdout",
       "text": [
        "271 customers have purchased shoes\n",
        "170 customers have purchased belts\n",
        "240 customers have purchased shoes but not belts\n",
        "31 customers have purchased shoes and belts\n",
        "79 customers have purchases shoes and shirts\n",
        "9 customers have purchased shoes, belts and shirts\n",
        "The following customers are our most valued. They have purchased shoes & belts & shirts:\n",
        "('173693', 'Halvorson PLC')\n",
        "('727064', 'Bashirian, Beier and Watsica')\n",
        "('434955', 'Ledner-Kling')\n",
        "('803666', 'Fritsch-Glover')\n",
        "('527078', 'Kuvalis-Roberts')\n",
        "('041711', 'Koepp-McLaughlin')\n",
        "('151300', \"Upton, Runolfsson and O'Reilly\")\n",
        "('004450', 'Beier-Bosco')\n",
        "('343481', 'Mills Inc')\n"
       ]
      }
     ],
     "prompt_number": 76
    },
    {
     "cell_type": "heading",
     "level": 1,
     "metadata": {},
     "source": [
      "Simple Graphing with IPython and Pandas"
     ]
    },
    {
     "cell_type": "code",
     "collapsed": false,
     "input": [
      "#http://pbpython.com/simple-graphing-pandas.html"
     ],
     "language": "python",
     "metadata": {},
     "outputs": [],
     "prompt_number": 77
    },
    {
     "cell_type": "code",
     "collapsed": false,
     "input": [
      "import pandas as pd\n",
      "import numpy as np\n",
      "import matplotlib.pyplot as plt\n",
      "pd.__version__"
     ],
     "language": "python",
     "metadata": {},
     "outputs": [
      {
       "metadata": {},
       "output_type": "pyout",
       "prompt_number": 78,
       "text": [
        "'0.14.1'"
       ]
      }
     ],
     "prompt_number": 78
    },
    {
     "cell_type": "code",
     "collapsed": false,
     "input": [
      "#enable IPython to display matplotlib graphs.\n",
      "\n",
      "%matplotlib inline"
     ],
     "language": "python",
     "metadata": {},
     "outputs": [],
     "prompt_number": 79
    },
    {
     "cell_type": "code",
     "collapsed": false,
     "input": [
      "sales=pd.read_csv(\"sample-salesv2.csv\",parse_dates=['date'])\n",
      "sales.head()"
     ],
     "language": "python",
     "metadata": {},
     "outputs": [
      {
       "html": [
        "<div style=\"max-height:1000px;max-width:1500px;overflow:auto;\">\n",
        "<table border=\"1\" class=\"dataframe\">\n",
        "  <thead>\n",
        "    <tr style=\"text-align: right;\">\n",
        "      <th></th>\n",
        "      <th>account number</th>\n",
        "      <th>name</th>\n",
        "      <th>sku</th>\n",
        "      <th>category</th>\n",
        "      <th>quantity</th>\n",
        "      <th>unit price</th>\n",
        "      <th>ext price</th>\n",
        "      <th>date</th>\n",
        "    </tr>\n",
        "  </thead>\n",
        "  <tbody>\n",
        "    <tr>\n",
        "      <th>0</th>\n",
        "      <td> 296809</td>\n",
        "      <td>                   Carroll PLC</td>\n",
        "      <td> QN-82852</td>\n",
        "      <td>  Belt</td>\n",
        "      <td> 13</td>\n",
        "      <td> 44.48</td>\n",
        "      <td>  578.24</td>\n",
        "      <td>2014-09-27 07:13:03</td>\n",
        "    </tr>\n",
        "    <tr>\n",
        "      <th>1</th>\n",
        "      <td>  98022</td>\n",
        "      <td>             Heidenreich-Bosco</td>\n",
        "      <td> MJ-21460</td>\n",
        "      <td> Shoes</td>\n",
        "      <td> 19</td>\n",
        "      <td> 53.62</td>\n",
        "      <td> 1018.78</td>\n",
        "      <td>2014-07-29 02:10:44</td>\n",
        "    </tr>\n",
        "    <tr>\n",
        "      <th>2</th>\n",
        "      <td> 563905</td>\n",
        "      <td> Kerluke, Reilly and Bechtelar</td>\n",
        "      <td> AS-93055</td>\n",
        "      <td> Shirt</td>\n",
        "      <td> 12</td>\n",
        "      <td> 24.16</td>\n",
        "      <td>  289.92</td>\n",
        "      <td>2014-03-01 10:51:24</td>\n",
        "    </tr>\n",
        "    <tr>\n",
        "      <th>3</th>\n",
        "      <td>  93356</td>\n",
        "      <td>                 Waters-Walker</td>\n",
        "      <td> AS-93055</td>\n",
        "      <td> Shirt</td>\n",
        "      <td>  5</td>\n",
        "      <td> 82.68</td>\n",
        "      <td>  413.40</td>\n",
        "      <td>2013-11-17 20:41:11</td>\n",
        "    </tr>\n",
        "    <tr>\n",
        "      <th>4</th>\n",
        "      <td> 659366</td>\n",
        "      <td>                 Waelchi-Fahey</td>\n",
        "      <td> AS-93055</td>\n",
        "      <td> Shirt</td>\n",
        "      <td> 18</td>\n",
        "      <td> 99.64</td>\n",
        "      <td> 1793.52</td>\n",
        "      <td>2014-01-03 08:14:27</td>\n",
        "    </tr>\n",
        "  </tbody>\n",
        "</table>\n",
        "</div>"
       ],
       "metadata": {},
       "output_type": "pyout",
       "prompt_number": 80,
       "text": [
        "   account number                           name       sku category  quantity  \\\n",
        "0          296809                    Carroll PLC  QN-82852     Belt        13   \n",
        "1           98022              Heidenreich-Bosco  MJ-21460    Shoes        19   \n",
        "2          563905  Kerluke, Reilly and Bechtelar  AS-93055    Shirt        12   \n",
        "3           93356                  Waters-Walker  AS-93055    Shirt         5   \n",
        "4          659366                  Waelchi-Fahey  AS-93055    Shirt        18   \n",
        "\n",
        "   unit price  ext price                date  \n",
        "0       44.48     578.24 2014-09-27 07:13:03  \n",
        "1       53.62    1018.78 2014-07-29 02:10:44  \n",
        "2       24.16     289.92 2014-03-01 10:51:24  \n",
        "3       82.68     413.40 2013-11-17 20:41:11  \n",
        "4       99.64    1793.52 2014-01-03 08:14:27  "
       ]
      }
     ],
     "prompt_number": 80
    },
    {
     "cell_type": "code",
     "collapsed": false,
     "input": [
      "sales.describe()"
     ],
     "language": "python",
     "metadata": {},
     "outputs": [
      {
       "html": [
        "<div style=\"max-height:1000px;max-width:1500px;overflow:auto;\">\n",
        "<table border=\"1\" class=\"dataframe\">\n",
        "  <thead>\n",
        "    <tr style=\"text-align: right;\">\n",
        "      <th></th>\n",
        "      <th>account number</th>\n",
        "      <th>quantity</th>\n",
        "      <th>unit price</th>\n",
        "      <th>ext price</th>\n",
        "    </tr>\n",
        "  </thead>\n",
        "  <tbody>\n",
        "    <tr>\n",
        "      <th>count</th>\n",
        "      <td>   1000.000000</td>\n",
        "      <td> 1000.000000</td>\n",
        "      <td> 1000.000000</td>\n",
        "      <td> 1000.00000</td>\n",
        "    </tr>\n",
        "    <tr>\n",
        "      <th>mean</th>\n",
        "      <td> 535208.897000</td>\n",
        "      <td>   10.328000</td>\n",
        "      <td>   56.179630</td>\n",
        "      <td>  579.84390</td>\n",
        "    </tr>\n",
        "    <tr>\n",
        "      <th>std</th>\n",
        "      <td> 277589.746014</td>\n",
        "      <td>    5.687597</td>\n",
        "      <td>   25.331939</td>\n",
        "      <td>  435.30381</td>\n",
        "    </tr>\n",
        "    <tr>\n",
        "      <th>min</th>\n",
        "      <td>  93356.000000</td>\n",
        "      <td>    1.000000</td>\n",
        "      <td>   10.060000</td>\n",
        "      <td>   10.38000</td>\n",
        "    </tr>\n",
        "    <tr>\n",
        "      <th>25%</th>\n",
        "      <td> 299771.000000</td>\n",
        "      <td>    5.750000</td>\n",
        "      <td>   35.995000</td>\n",
        "      <td>  232.60500</td>\n",
        "    </tr>\n",
        "    <tr>\n",
        "      <th>50%</th>\n",
        "      <td> 563905.000000</td>\n",
        "      <td>   10.000000</td>\n",
        "      <td>   56.765000</td>\n",
        "      <td>  471.72000</td>\n",
        "    </tr>\n",
        "    <tr>\n",
        "      <th>75%</th>\n",
        "      <td> 750461.000000</td>\n",
        "      <td>   15.000000</td>\n",
        "      <td>   76.802500</td>\n",
        "      <td>  878.13750</td>\n",
        "    </tr>\n",
        "    <tr>\n",
        "      <th>max</th>\n",
        "      <td> 995267.000000</td>\n",
        "      <td>   20.000000</td>\n",
        "      <td>   99.970000</td>\n",
        "      <td> 1994.80000</td>\n",
        "    </tr>\n",
        "  </tbody>\n",
        "</table>\n",
        "</div>"
       ],
       "metadata": {},
       "output_type": "pyout",
       "prompt_number": 81,
       "text": [
        "       account number     quantity   unit price   ext price\n",
        "count     1000.000000  1000.000000  1000.000000  1000.00000\n",
        "mean    535208.897000    10.328000    56.179630   579.84390\n",
        "std     277589.746014     5.687597    25.331939   435.30381\n",
        "min      93356.000000     1.000000    10.060000    10.38000\n",
        "25%     299771.000000     5.750000    35.995000   232.60500\n",
        "50%     563905.000000    10.000000    56.765000   471.72000\n",
        "75%     750461.000000    15.000000    76.802500   878.13750\n",
        "max     995267.000000    20.000000    99.970000  1994.80000"
       ]
      }
     ],
     "prompt_number": 81
    },
    {
     "cell_type": "code",
     "collapsed": false,
     "input": [
      "sales['unit price'].describe()"
     ],
     "language": "python",
     "metadata": {},
     "outputs": [
      {
       "metadata": {},
       "output_type": "pyout",
       "prompt_number": 82,
       "text": [
        "count    1000.000000\n",
        "mean       56.179630\n",
        "std        25.331939\n",
        "min        10.060000\n",
        "25%        35.995000\n",
        "50%        56.765000\n",
        "75%        76.802500\n",
        "max        99.970000\n",
        "dtype: float64"
       ]
      }
     ],
     "prompt_number": 82
    },
    {
     "cell_type": "code",
     "collapsed": false,
     "input": [
      "sales.dtypes"
     ],
     "language": "python",
     "metadata": {},
     "outputs": [
      {
       "metadata": {},
       "output_type": "pyout",
       "prompt_number": 83,
       "text": [
        "account number             int64\n",
        "name                      object\n",
        "sku                       object\n",
        "category                  object\n",
        "quantity                   int64\n",
        "unit price               float64\n",
        "ext price                float64\n",
        "date              datetime64[ns]\n",
        "dtype: object"
       ]
      }
     ],
     "prompt_number": 83
    },
    {
     "cell_type": "code",
     "collapsed": false,
     "input": [
      "customers = sales[['name','ext price','date']]\n",
      "customers.head()"
     ],
     "language": "python",
     "metadata": {},
     "outputs": [
      {
       "html": [
        "<div style=\"max-height:1000px;max-width:1500px;overflow:auto;\">\n",
        "<table border=\"1\" class=\"dataframe\">\n",
        "  <thead>\n",
        "    <tr style=\"text-align: right;\">\n",
        "      <th></th>\n",
        "      <th>name</th>\n",
        "      <th>ext price</th>\n",
        "      <th>date</th>\n",
        "    </tr>\n",
        "  </thead>\n",
        "  <tbody>\n",
        "    <tr>\n",
        "      <th>0</th>\n",
        "      <td>                   Carroll PLC</td>\n",
        "      <td>  578.24</td>\n",
        "      <td>2014-09-27 07:13:03</td>\n",
        "    </tr>\n",
        "    <tr>\n",
        "      <th>1</th>\n",
        "      <td>             Heidenreich-Bosco</td>\n",
        "      <td> 1018.78</td>\n",
        "      <td>2014-07-29 02:10:44</td>\n",
        "    </tr>\n",
        "    <tr>\n",
        "      <th>2</th>\n",
        "      <td> Kerluke, Reilly and Bechtelar</td>\n",
        "      <td>  289.92</td>\n",
        "      <td>2014-03-01 10:51:24</td>\n",
        "    </tr>\n",
        "    <tr>\n",
        "      <th>3</th>\n",
        "      <td>                 Waters-Walker</td>\n",
        "      <td>  413.40</td>\n",
        "      <td>2013-11-17 20:41:11</td>\n",
        "    </tr>\n",
        "    <tr>\n",
        "      <th>4</th>\n",
        "      <td>                 Waelchi-Fahey</td>\n",
        "      <td> 1793.52</td>\n",
        "      <td>2014-01-03 08:14:27</td>\n",
        "    </tr>\n",
        "  </tbody>\n",
        "</table>\n",
        "</div>"
       ],
       "metadata": {},
       "output_type": "pyout",
       "prompt_number": 84,
       "text": [
        "                            name  ext price                date\n",
        "0                    Carroll PLC     578.24 2014-09-27 07:13:03\n",
        "1              Heidenreich-Bosco    1018.78 2014-07-29 02:10:44\n",
        "2  Kerluke, Reilly and Bechtelar     289.92 2014-03-01 10:51:24\n",
        "3                  Waters-Walker     413.40 2013-11-17 20:41:11\n",
        "4                  Waelchi-Fahey    1793.52 2014-01-03 08:14:27"
       ]
      }
     ],
     "prompt_number": 84
    },
    {
     "cell_type": "code",
     "collapsed": false,
     "input": [
      "#number of entries per customer to get an idea for the distribution.\n",
      "\n",
      "customer_group = customers.groupby('name')\n",
      "customer_group.size()"
     ],
     "language": "python",
     "metadata": {},
     "outputs": [
      {
       "metadata": {},
       "output_type": "pyout",
       "prompt_number": 85,
       "text": [
        "name\n",
        "Berge LLC                        52\n",
        "Carroll PLC                      57\n",
        "Cole-Eichmann                    51\n",
        "Davis, Kshlerin and Reilly       41\n",
        "Ernser, Cruickshank and Lind     47\n",
        "Gorczany-Hahn                    42\n",
        "Hamill-Hackett                   44\n",
        "Hegmann and Sons                 58\n",
        "Heidenreich-Bosco                40\n",
        "Huel-Haag                        43\n",
        "Kerluke, Reilly and Bechtelar    52\n",
        "Kihn, McClure and Denesik        58\n",
        "Kilback-Gerlach                  45\n",
        "Koelpin PLC                      53\n",
        "Kunze Inc                        54\n",
        "Kuphal, Zieme and Kub            52\n",
        "Senger, Upton and Breitenberg    59\n",
        "Volkman, Goyette and Lemke       48\n",
        "Waelchi-Fahey                    54\n",
        "Waters-Walker                    50\n",
        "dtype: int64"
       ]
      }
     ],
     "prompt_number": 85
    },
    {
     "cell_type": "code",
     "collapsed": false,
     "input": [
      "sales_totals = customer_group.sum()\n",
      "sales_totals.sort(columns='ext price').head()"
     ],
     "language": "python",
     "metadata": {},
     "outputs": [
      {
       "html": [
        "<div style=\"max-height:1000px;max-width:1500px;overflow:auto;\">\n",
        "<table border=\"1\" class=\"dataframe\">\n",
        "  <thead>\n",
        "    <tr style=\"text-align: right;\">\n",
        "      <th></th>\n",
        "      <th>ext price</th>\n",
        "    </tr>\n",
        "    <tr>\n",
        "      <th>name</th>\n",
        "      <th></th>\n",
        "    </tr>\n",
        "  </thead>\n",
        "  <tbody>\n",
        "    <tr>\n",
        "      <th>Davis, Kshlerin and Reilly</th>\n",
        "      <td> 19054.76</td>\n",
        "    </tr>\n",
        "    <tr>\n",
        "      <th>Huel-Haag</th>\n",
        "      <td> 21087.88</td>\n",
        "    </tr>\n",
        "    <tr>\n",
        "      <th>Gorczany-Hahn</th>\n",
        "      <td> 22207.90</td>\n",
        "    </tr>\n",
        "    <tr>\n",
        "      <th>Hamill-Hackett</th>\n",
        "      <td> 23433.78</td>\n",
        "    </tr>\n",
        "    <tr>\n",
        "      <th>Heidenreich-Bosco</th>\n",
        "      <td> 25428.29</td>\n",
        "    </tr>\n",
        "  </tbody>\n",
        "</table>\n",
        "</div>"
       ],
       "metadata": {},
       "output_type": "pyout",
       "prompt_number": 86,
       "text": [
        "                            ext price\n",
        "name                                 \n",
        "Davis, Kshlerin and Reilly   19054.76\n",
        "Huel-Haag                    21087.88\n",
        "Gorczany-Hahn                22207.90\n",
        "Hamill-Hackett               23433.78\n",
        "Heidenreich-Bosco            25428.29"
       ]
      }
     ],
     "prompt_number": 86
    },
    {
     "cell_type": "code",
     "collapsed": false,
     "input": [
      "my_plot = sales_totals.plot(kind='bar')\n",
      "# why does this one default to bring in the legend- where mine does not?"
     ],
     "language": "python",
     "metadata": {},
     "outputs": [
      {
       "metadata": {},
       "output_type": "display_data",
       "png": "[encoded data removed]",
       "text": [
        "<matplotlib.figure.Figure at 0x7f24c8afd410>"
       ]
      }
     ],
     "prompt_number": 87
    },
    {
     "cell_type": "code",
     "collapsed": false,
     "input": [
      "my_plot = sales_totals.sort(columns='ext price',ascending=False).plot(kind='bar',legend=None,title=\"Total Sales by Customer\")\n",
      "my_plot.set_xlabel(\"Customers\")\n",
      "my_plot.set_ylabel(\"Sales ($)\")"
     ],
     "language": "python",
     "metadata": {},
     "outputs": [
      {
       "metadata": {},
       "output_type": "pyout",
       "prompt_number": 88,
       "text": [
        "<matplotlib.text.Text at 0x7f24c54be990>"
       ]
      },
      {
       "metadata": {},
       "output_type": "display_data",
       "png": "[encoded data removed]",
       "text": [
        "<matplotlib.figure.Figure at 0x7f24c547b350>"
       ]
      }
     ],
     "prompt_number": 88
    },
    {
     "cell_type": "code",
     "collapsed": false,
     "input": [
      "customers = sales[['name','category','ext price','date']]\n",
      "customers.head()"
     ],
     "language": "python",
     "metadata": {},
     "outputs": [
      {
       "html": [
        "<div style=\"max-height:1000px;max-width:1500px;overflow:auto;\">\n",
        "<table border=\"1\" class=\"dataframe\">\n",
        "  <thead>\n",
        "    <tr style=\"text-align: right;\">\n",
        "      <th></th>\n",
        "      <th>name</th>\n",
        "      <th>category</th>\n",
        "      <th>ext price</th>\n",
        "      <th>date</th>\n",
        "    </tr>\n",
        "  </thead>\n",
        "  <tbody>\n",
        "    <tr>\n",
        "      <th>0</th>\n",
        "      <td>                   Carroll PLC</td>\n",
        "      <td>  Belt</td>\n",
        "      <td>  578.24</td>\n",
        "      <td>2014-09-27 07:13:03</td>\n",
        "    </tr>\n",
        "    <tr>\n",
        "      <th>1</th>\n",
        "      <td>             Heidenreich-Bosco</td>\n",
        "      <td> Shoes</td>\n",
        "      <td> 1018.78</td>\n",
        "      <td>2014-07-29 02:10:44</td>\n",
        "    </tr>\n",
        "    <tr>\n",
        "      <th>2</th>\n",
        "      <td> Kerluke, Reilly and Bechtelar</td>\n",
        "      <td> Shirt</td>\n",
        "      <td>  289.92</td>\n",
        "      <td>2014-03-01 10:51:24</td>\n",
        "    </tr>\n",
        "    <tr>\n",
        "      <th>3</th>\n",
        "      <td>                 Waters-Walker</td>\n",
        "      <td> Shirt</td>\n",
        "      <td>  413.40</td>\n",
        "      <td>2013-11-17 20:41:11</td>\n",
        "    </tr>\n",
        "    <tr>\n",
        "      <th>4</th>\n",
        "      <td>                 Waelchi-Fahey</td>\n",
        "      <td> Shirt</td>\n",
        "      <td> 1793.52</td>\n",
        "      <td>2014-01-03 08:14:27</td>\n",
        "    </tr>\n",
        "  </tbody>\n",
        "</table>\n",
        "</div>"
       ],
       "metadata": {},
       "output_type": "pyout",
       "prompt_number": 102,
       "text": [
        "                            name category  ext price                date\n",
        "0                    Carroll PLC     Belt     578.24 2014-09-27 07:13:03\n",
        "1              Heidenreich-Bosco    Shoes    1018.78 2014-07-29 02:10:44\n",
        "2  Kerluke, Reilly and Bechtelar    Shirt     289.92 2014-03-01 10:51:24\n",
        "3                  Waters-Walker    Shirt     413.40 2013-11-17 20:41:11\n",
        "4                  Waelchi-Fahey    Shirt    1793.52 2014-01-03 08:14:27"
       ]
      }
     ],
     "prompt_number": 102
    },
    {
     "cell_type": "code",
     "collapsed": false,
     "input": [],
     "language": "python",
     "metadata": {},
     "outputs": []
    },
    {
     "cell_type": "code",
     "collapsed": false,
     "input": [
      "sales_totals = customer_group.sum()\n",
      "sales_totals.sort(columns='ext price').head()"
     ],
     "language": "python",
     "metadata": {},
     "outputs": [
      {
       "html": [
        "<div style=\"max-height:1000px;max-width:1500px;overflow:auto;\">\n",
        "<table border=\"1\" class=\"dataframe\">\n",
        "  <thead>\n",
        "    <tr style=\"text-align: right;\">\n",
        "      <th></th>\n",
        "      <th>ext price</th>\n",
        "    </tr>\n",
        "    <tr>\n",
        "      <th>name</th>\n",
        "      <th></th>\n",
        "    </tr>\n",
        "  </thead>\n",
        "  <tbody>\n",
        "    <tr>\n",
        "      <th>Davis, Kshlerin and Reilly</th>\n",
        "      <td> 19054.76</td>\n",
        "    </tr>\n",
        "    <tr>\n",
        "      <th>Huel-Haag</th>\n",
        "      <td> 21087.88</td>\n",
        "    </tr>\n",
        "    <tr>\n",
        "      <th>Gorczany-Hahn</th>\n",
        "      <td> 22207.90</td>\n",
        "    </tr>\n",
        "    <tr>\n",
        "      <th>Hamill-Hackett</th>\n",
        "      <td> 23433.78</td>\n",
        "    </tr>\n",
        "    <tr>\n",
        "      <th>Heidenreich-Bosco</th>\n",
        "      <td> 25428.29</td>\n",
        "    </tr>\n",
        "  </tbody>\n",
        "</table>\n",
        "</div>"
       ],
       "metadata": {},
       "output_type": "pyout",
       "prompt_number": 100,
       "text": [
        "                            ext price\n",
        "name                                 \n",
        "Davis, Kshlerin and Reilly   19054.76\n",
        "Huel-Haag                    21087.88\n",
        "Gorczany-Hahn                22207.90\n",
        "Hamill-Hackett               23433.78\n",
        "Heidenreich-Bosco            25428.29"
       ]
      }
     ],
     "prompt_number": 100
    },
    {
     "cell_type": "code",
     "collapsed": false,
     "input": [
      "category_group=customers.groupby(['name','category']).sum()\n",
      "category_group.head()"
     ],
     "language": "python",
     "metadata": {},
     "outputs": [
      {
       "html": [
        "<div style=\"max-height:1000px;max-width:1500px;overflow:auto;\">\n",
        "<table border=\"1\" class=\"dataframe\">\n",
        "  <thead>\n",
        "    <tr style=\"text-align: right;\">\n",
        "      <th></th>\n",
        "      <th></th>\n",
        "      <th>ext price</th>\n",
        "    </tr>\n",
        "    <tr>\n",
        "      <th>name</th>\n",
        "      <th>category</th>\n",
        "      <th></th>\n",
        "    </tr>\n",
        "  </thead>\n",
        "  <tbody>\n",
        "    <tr>\n",
        "      <th rowspan=\"3\" valign=\"top\">Berge LLC</th>\n",
        "      <th>Belt</th>\n",
        "      <td>  6033.53</td>\n",
        "    </tr>\n",
        "    <tr>\n",
        "      <th>Shirt</th>\n",
        "      <td>  9670.24</td>\n",
        "    </tr>\n",
        "    <tr>\n",
        "      <th>Shoes</th>\n",
        "      <td> 14361.10</td>\n",
        "    </tr>\n",
        "    <tr>\n",
        "      <th rowspan=\"2\" valign=\"top\">Carroll PLC</th>\n",
        "      <th>Belt</th>\n",
        "      <td>  9359.26</td>\n",
        "    </tr>\n",
        "    <tr>\n",
        "      <th>Shirt</th>\n",
        "      <td> 13717.61</td>\n",
        "    </tr>\n",
        "  </tbody>\n",
        "</table>\n",
        "</div>"
       ],
       "metadata": {},
       "output_type": "pyout",
       "prompt_number": 90,
       "text": [
        "                      ext price\n",
        "name        category           \n",
        "Berge LLC   Belt        6033.53\n",
        "            Shirt       9670.24\n",
        "            Shoes      14361.10\n",
        "Carroll PLC Belt        9359.26\n",
        "            Shirt      13717.61"
       ]
      }
     ],
     "prompt_number": 90
    },
    {
     "cell_type": "code",
     "collapsed": false,
     "input": [
      "category_group.unstack().head()"
     ],
     "language": "python",
     "metadata": {},
     "outputs": [
      {
       "html": [
        "<div style=\"max-height:1000px;max-width:1500px;overflow:auto;\">\n",
        "<table border=\"1\" class=\"dataframe\">\n",
        "  <thead>\n",
        "    <tr>\n",
        "      <th></th>\n",
        "      <th colspan=\"3\" halign=\"left\">ext price</th>\n",
        "    </tr>\n",
        "    <tr>\n",
        "      <th>category</th>\n",
        "      <th>Belt</th>\n",
        "      <th>Shirt</th>\n",
        "      <th>Shoes</th>\n",
        "    </tr>\n",
        "    <tr>\n",
        "      <th>name</th>\n",
        "      <th></th>\n",
        "      <th></th>\n",
        "      <th></th>\n",
        "    </tr>\n",
        "  </thead>\n",
        "  <tbody>\n",
        "    <tr>\n",
        "      <th>Berge LLC</th>\n",
        "      <td> 6033.53</td>\n",
        "      <td>  9670.24</td>\n",
        "      <td> 14361.10</td>\n",
        "    </tr>\n",
        "    <tr>\n",
        "      <th>Carroll PLC</th>\n",
        "      <td> 9359.26</td>\n",
        "      <td> 13717.61</td>\n",
        "      <td> 12857.44</td>\n",
        "    </tr>\n",
        "    <tr>\n",
        "      <th>Cole-Eichmann</th>\n",
        "      <td> 8112.70</td>\n",
        "      <td> 14528.01</td>\n",
        "      <td>  7794.71</td>\n",
        "    </tr>\n",
        "    <tr>\n",
        "      <th>Davis, Kshlerin and Reilly</th>\n",
        "      <td> 1604.13</td>\n",
        "      <td>  7533.03</td>\n",
        "      <td>  9917.60</td>\n",
        "    </tr>\n",
        "    <tr>\n",
        "      <th>Ernser, Cruickshank and Lind</th>\n",
        "      <td> 5894.38</td>\n",
        "      <td> 16944.19</td>\n",
        "      <td>  5250.45</td>\n",
        "    </tr>\n",
        "  </tbody>\n",
        "</table>\n",
        "</div>"
       ],
       "metadata": {},
       "output_type": "pyout",
       "prompt_number": 91,
       "text": [
        "                              ext price                    \n",
        "category                           Belt     Shirt     Shoes\n",
        "name                                                       \n",
        "Berge LLC                       6033.53   9670.24  14361.10\n",
        "Carroll PLC                     9359.26  13717.61  12857.44\n",
        "Cole-Eichmann                   8112.70  14528.01   7794.71\n",
        "Davis, Kshlerin and Reilly      1604.13   7533.03   9917.60\n",
        "Ernser, Cruickshank and Lind    5894.38  16944.19   5250.45"
       ]
      }
     ],
     "prompt_number": 91
    },
    {
     "cell_type": "code",
     "collapsed": false,
     "input": [
      "my_plot = category_group.unstack().plot(kind='bar',stacked=True,title=\"Total Sales by Customer\")\n",
      "my_plot.set_xlabel(\"Customers\")\n",
      "my_plot.set_ylabel(\"Sales\")"
     ],
     "language": "python",
     "metadata": {},
     "outputs": [
      {
       "metadata": {},
       "output_type": "pyout",
       "prompt_number": 92,
       "text": [
        "<matplotlib.text.Text at 0x7f24c5833050>"
       ]
      },
      {
       "metadata": {},
       "output_type": "display_data",
       "png": "[encoded data removed]",
       "text": [
        "<matplotlib.figure.Figure at 0x7f24c5289b50>"
       ]
      }
     ],
     "prompt_number": 92
    },
    {
     "cell_type": "code",
     "collapsed": false,
     "input": [
      "my_plot = category_group.unstack().plot(kind='bar',stacked=True,title=\"Total Sales by Customer\",figsize=(9, 7))\n",
      "my_plot.set_xlabel(\"Customers\")\n",
      "my_plot.set_ylabel(\"Sales\")\n",
      "my_plot.legend([\"Total\",\"Belts\",\"Shirts\",\"Shoes\"], loc=9,ncol=4)\n",
      "# how to sort by the total?"
     ],
     "language": "python",
     "metadata": {},
     "outputs": [
      {
       "metadata": {},
       "output_type": "pyout",
       "prompt_number": 93,
       "text": [
        "<matplotlib.legend.Legend at 0x7f24c73d4750>"
       ]
      },
      {
       "metadata": {},
       "output_type": "display_data",
       "png": "[encoded data removed]",
       "text": [
        "<matplotlib.figure.Figure at 0x7f24c5201b90>"
       ]
      }
     ],
     "prompt_number": 93
    },
    {
     "cell_type": "code",
     "collapsed": false,
     "input": [
      "# TRY TO SORT IT\n",
      "my_plot = category_group.unstack().plot(kind='bar',stacked=True,title=\"Total Sales by Customer\",figsize=(9, 7))\n",
      "my_plot.set_xlabel(\"Customers\")\n",
      "my_plot.set_ylabel(\"Sales\")\n",
      "my_plot.legend([\"Total\",\"Belts\",\"Shirts\",\"Shoes\"], loc=9,ncol=4)\n",
      "# how to sort by the total?"
     ],
     "language": "python",
     "metadata": {},
     "outputs": [
      {
       "metadata": {},
       "output_type": "pyout",
       "prompt_number": 94,
       "text": [
        "<matplotlib.legend.Legend at 0x7f24c5289dd0>"
       ]
      },
      {
       "metadata": {},
       "output_type": "display_data",
       "png": "[encoded data removed]",
       "text": [
        "<matplotlib.figure.Figure at 0x7f24c4fffb10>"
       ]
      }
     ],
     "prompt_number": 94
    },
    {
     "cell_type": "code",
     "collapsed": false,
     "input": [
      "purchase_patterns = sales[['ext price','date']]\n",
      "purchase_patterns.head()"
     ],
     "language": "python",
     "metadata": {},
     "outputs": [
      {
       "html": [
        "<div style=\"max-height:1000px;max-width:1500px;overflow:auto;\">\n",
        "<table border=\"1\" class=\"dataframe\">\n",
        "  <thead>\n",
        "    <tr style=\"text-align: right;\">\n",
        "      <th></th>\n",
        "      <th>ext price</th>\n",
        "      <th>date</th>\n",
        "    </tr>\n",
        "  </thead>\n",
        "  <tbody>\n",
        "    <tr>\n",
        "      <th>0</th>\n",
        "      <td>  578.24</td>\n",
        "      <td>2014-09-27 07:13:03</td>\n",
        "    </tr>\n",
        "    <tr>\n",
        "      <th>1</th>\n",
        "      <td> 1018.78</td>\n",
        "      <td>2014-07-29 02:10:44</td>\n",
        "    </tr>\n",
        "    <tr>\n",
        "      <th>2</th>\n",
        "      <td>  289.92</td>\n",
        "      <td>2014-03-01 10:51:24</td>\n",
        "    </tr>\n",
        "    <tr>\n",
        "      <th>3</th>\n",
        "      <td>  413.40</td>\n",
        "      <td>2013-11-17 20:41:11</td>\n",
        "    </tr>\n",
        "    <tr>\n",
        "      <th>4</th>\n",
        "      <td> 1793.52</td>\n",
        "      <td>2014-01-03 08:14:27</td>\n",
        "    </tr>\n",
        "  </tbody>\n",
        "</table>\n",
        "</div>"
       ],
       "metadata": {},
       "output_type": "pyout",
       "prompt_number": 95,
       "text": [
        "   ext price                date\n",
        "0     578.24 2014-09-27 07:13:03\n",
        "1    1018.78 2014-07-29 02:10:44\n",
        "2     289.92 2014-03-01 10:51:24\n",
        "3     413.40 2013-11-17 20:41:11\n",
        "4    1793.52 2014-01-03 08:14:27"
       ]
      }
     ],
     "prompt_number": 95
    },
    {
     "cell_type": "code",
     "collapsed": false,
     "input": [
      "purchase_plot = purchase_patterns['ext price'].hist(bins=20)\n",
      "purchase_plot.set_title(\"Purchase Patterns\")\n",
      "purchase_plot.set_xlabel(\"Order Amount($)\")\n",
      "purchase_plot.set_ylabel(\"Number of orders\")"
     ],
     "language": "python",
     "metadata": {},
     "outputs": [
      {
       "metadata": {},
       "output_type": "pyout",
       "prompt_number": 96,
       "text": [
        "<matplotlib.text.Text at 0x7f24c4bb3890>"
       ]
      },
      {
       "metadata": {},
       "output_type": "display_data",
       "png": "[encoded data removed]",
       "text": [
        "<matplotlib.figure.Figure at 0x7f24c4f788d0>"
       ]
      }
     ],
     "prompt_number": 96
    },
    {
     "cell_type": "code",
     "collapsed": false,
     "input": [
      "purchase_patterns = sales[['ext price','date']]\n",
      "purchase_patterns.head()"
     ],
     "language": "python",
     "metadata": {},
     "outputs": [
      {
       "html": [
        "<div style=\"max-height:1000px;max-width:1500px;overflow:auto;\">\n",
        "<table border=\"1\" class=\"dataframe\">\n",
        "  <thead>\n",
        "    <tr style=\"text-align: right;\">\n",
        "      <th></th>\n",
        "      <th>ext price</th>\n",
        "      <th>date</th>\n",
        "    </tr>\n",
        "  </thead>\n",
        "  <tbody>\n",
        "    <tr>\n",
        "      <th>0</th>\n",
        "      <td>  578.24</td>\n",
        "      <td>2014-09-27 07:13:03</td>\n",
        "    </tr>\n",
        "    <tr>\n",
        "      <th>1</th>\n",
        "      <td> 1018.78</td>\n",
        "      <td>2014-07-29 02:10:44</td>\n",
        "    </tr>\n",
        "    <tr>\n",
        "      <th>2</th>\n",
        "      <td>  289.92</td>\n",
        "      <td>2014-03-01 10:51:24</td>\n",
        "    </tr>\n",
        "    <tr>\n",
        "      <th>3</th>\n",
        "      <td>  413.40</td>\n",
        "      <td>2013-11-17 20:41:11</td>\n",
        "    </tr>\n",
        "    <tr>\n",
        "      <th>4</th>\n",
        "      <td> 1793.52</td>\n",
        "      <td>2014-01-03 08:14:27</td>\n",
        "    </tr>\n",
        "  </tbody>\n",
        "</table>\n",
        "</div>"
       ],
       "metadata": {},
       "output_type": "pyout",
       "prompt_number": 97,
       "text": [
        "   ext price                date\n",
        "0     578.24 2014-09-27 07:13:03\n",
        "1    1018.78 2014-07-29 02:10:44\n",
        "2     289.92 2014-03-01 10:51:24\n",
        "3     413.40 2013-11-17 20:41:11\n",
        "4    1793.52 2014-01-03 08:14:27"
       ]
      }
     ],
     "prompt_number": 97
    },
    {
     "cell_type": "raw",
     "metadata": {
      "raw_mimetype": "text/x-python"
     },
     "source": [
      "One of the really cool things that pandas allows us to do is resample the data. If we want to look at the data by month, we can easily resample and sum it all up. You\u2019ll notice I\u2019m using \u2018M\u2019 as the period for resampling which means the data should be resampled on a month boundary.\n",
      "\n",
      "purchase_patterns.resample('M',how=sum)"
     ]
    },
    {
     "cell_type": "code",
     "collapsed": false,
     "input": [
      "purchase_patterns.resample('M',how=sum)\n",
      "#TypeError: Only valid with DatetimeIndex or PeriodIndex\n",
      "# works from the command line"
     ],
     "language": "python",
     "metadata": {},
     "outputs": [
      {
       "ename": "TypeError",
       "evalue": "Only valid with DatetimeIndex or PeriodIndex",
       "output_type": "pyerr",
       "traceback": [
        "\u001b[1;31m---------------------------------------------------------------------------\u001b[0m\n\u001b[1;31mTypeError\u001b[0m                                 Traceback (most recent call last)",
        "\u001b[1;32m<ipython-input-98-93717026be39>\u001b[0m in \u001b[0;36m<module>\u001b[1;34m()\u001b[0m\n\u001b[1;32m----> 1\u001b[1;33m \u001b[0mpurchase_patterns\u001b[0m\u001b[1;33m.\u001b[0m\u001b[0mresample\u001b[0m\u001b[1;33m(\u001b[0m\u001b[1;34m'M'\u001b[0m\u001b[1;33m,\u001b[0m\u001b[0mhow\u001b[0m\u001b[1;33m=\u001b[0m\u001b[0msum\u001b[0m\u001b[1;33m)\u001b[0m\u001b[1;33m\u001b[0m\u001b[0m\n\u001b[0m\u001b[0;32m      2\u001b[0m \u001b[1;31m#TypeError: Only valid with DatetimeIndex or PeriodIndex\u001b[0m\u001b[1;33m\u001b[0m\u001b[1;33m\u001b[0m\u001b[0m\n\u001b[0;32m      3\u001b[0m \u001b[1;31m# works from the command line\u001b[0m\u001b[1;33m\u001b[0m\u001b[1;33m\u001b[0m\u001b[0m\n",
        "\u001b[1;32m/home/perry/anaconda/lib/python2.7/site-packages/pandas/core/generic.pyc\u001b[0m in \u001b[0;36mresample\u001b[1;34m(self, rule, how, axis, fill_method, closed, label, convention, kind, loffset, limit, base)\u001b[0m\n\u001b[0;32m   2878\u001b[0m                               \u001b[0mfill_method\u001b[0m\u001b[1;33m=\u001b[0m\u001b[0mfill_method\u001b[0m\u001b[1;33m,\u001b[0m \u001b[0mconvention\u001b[0m\u001b[1;33m=\u001b[0m\u001b[0mconvention\u001b[0m\u001b[1;33m,\u001b[0m\u001b[1;33m\u001b[0m\u001b[0m\n\u001b[0;32m   2879\u001b[0m                               limit=limit, base=base)\n\u001b[1;32m-> 2880\u001b[1;33m         \u001b[1;32mreturn\u001b[0m \u001b[0msampler\u001b[0m\u001b[1;33m.\u001b[0m\u001b[0mresample\u001b[0m\u001b[1;33m(\u001b[0m\u001b[0mself\u001b[0m\u001b[1;33m)\u001b[0m\u001b[1;33m.\u001b[0m\u001b[0m__finalize__\u001b[0m\u001b[1;33m(\u001b[0m\u001b[0mself\u001b[0m\u001b[1;33m)\u001b[0m\u001b[1;33m\u001b[0m\u001b[0m\n\u001b[0m\u001b[0;32m   2881\u001b[0m \u001b[1;33m\u001b[0m\u001b[0m\n\u001b[0;32m   2882\u001b[0m     \u001b[1;32mdef\u001b[0m \u001b[0mfirst\u001b[0m\u001b[1;33m(\u001b[0m\u001b[0mself\u001b[0m\u001b[1;33m,\u001b[0m \u001b[0moffset\u001b[0m\u001b[1;33m)\u001b[0m\u001b[1;33m:\u001b[0m\u001b[1;33m\u001b[0m\u001b[0m\n",
        "\u001b[1;32m/home/perry/anaconda/lib/python2.7/site-packages/pandas/tseries/resample.pyc\u001b[0m in \u001b[0;36mresample\u001b[1;34m(self, obj)\u001b[0m\n\u001b[0;32m    100\u001b[0m             \u001b[1;32mreturn\u001b[0m \u001b[0mself\u001b[0m\u001b[1;33m.\u001b[0m\u001b[0mobj\u001b[0m\u001b[1;33m\u001b[0m\u001b[0m\n\u001b[0;32m    101\u001b[0m         \u001b[1;32melse\u001b[0m\u001b[1;33m:\u001b[0m  \u001b[1;31m# pragma: no cover\u001b[0m\u001b[1;33m\u001b[0m\u001b[0m\n\u001b[1;32m--> 102\u001b[1;33m             \u001b[1;32mraise\u001b[0m \u001b[0mTypeError\u001b[0m\u001b[1;33m(\u001b[0m\u001b[1;34m'Only valid with DatetimeIndex or PeriodIndex'\u001b[0m\u001b[1;33m)\u001b[0m\u001b[1;33m\u001b[0m\u001b[0m\n\u001b[0m\u001b[0;32m    103\u001b[0m \u001b[1;33m\u001b[0m\u001b[0m\n\u001b[0;32m    104\u001b[0m         \u001b[0mrs_axis\u001b[0m \u001b[1;33m=\u001b[0m \u001b[0mrs\u001b[0m\u001b[1;33m.\u001b[0m\u001b[0m_get_axis\u001b[0m\u001b[1;33m(\u001b[0m\u001b[0mself\u001b[0m\u001b[1;33m.\u001b[0m\u001b[0maxis\u001b[0m\u001b[1;33m)\u001b[0m\u001b[1;33m\u001b[0m\u001b[0m\n",
        "\u001b[1;31mTypeError\u001b[0m: Only valid with DatetimeIndex or PeriodIndex"
       ]
      }
     ],
     "prompt_number": 98
    },
    {
     "cell_type": "code",
     "collapsed": false,
     "input": [
      "purchase_plot = purchase_patterns.resample('M',how=sum).plot(title=\"Total Sales by Month\",legend=None)"
     ],
     "language": "python",
     "metadata": {},
     "outputs": []
    },
    {
     "cell_type": "code",
     "collapsed": false,
     "input": [],
     "language": "python",
     "metadata": {},
     "outputs": []
    }
   ],
   "metadata": {}
  }
 ]
}